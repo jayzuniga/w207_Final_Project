{
 "cells": [
  {
   "cell_type": "code",
   "execution_count": 55,
   "metadata": {
    "collapsed": true
   },
   "outputs": [],
   "source": [
    "import pandas            as pd\n",
    "import numpy             as np\n",
    "import matplotlib.pyplot as plt"
   ]
  },
  {
   "cell_type": "code",
   "execution_count": 56,
   "metadata": {
    "collapsed": true
   },
   "outputs": [],
   "source": [
    "# merge hadicappers' history bets into one dataframe\n",
    "source_dir = '/Users/jzuniga/Downloads/HCData/'\n",
    "names = [\n",
    "    'Smart',\n",
    "    'Bartley',\n",
    "    'Aronson',\n",
    "    'Burns',\n",
    "    'Barone', # not in Ji's original list\n",
    "    'Bitler',\n",
    "    'Power',\n",
    "    'Ross',\n",
    "    'Diamond',\n",
    "    'Trapp',\n",
    "    'Sports',\n",
    "    'Eddie',\n",
    "    'Schule',\n",
    "    'DAmico',\n",
    "    'Duffy',\n",
    "    'Thomas',\n",
    "    'Hunter',\n",
    "    'Compeau', # not in Ji's original list\n",
    "    'Syndicate',\n",
    "    'Lundin',\n",
    "    'Simulator',\n",
    "    'Wilson',\n",
    "    'Monohan',\n",
    "    'Vinceletti',\n",
    "    'Rickenbach',\n",
    "    'Higgs',\n",
    "    'Nover',\n",
    "    'Brown',\n",
    "    'Karpinski',\n",
    "    'Rogers'\n",
    "    ]\n",
    "\n",
    "df = pd.DataFrame()\n",
    "for i in range(1,31): \n",
    "    tmp_df = pd.read_pickle(source_dir + 'HC' + str(i) + '.gz', compression='gzip')\n",
    "    \n",
    "    # if you want the last name of the HC, switch to use names array\n",
    "    #newdf['Handicapper'] = names[i-1]\n",
    "    tmp_df['Handicapper'] = 'HC'+str(i)\n",
    "    df = df.append(tmp_df, ignore_index=True)"
   ]
  },
  {
   "cell_type": "code",
   "execution_count": 6,
   "metadata": {},
   "outputs": [
    {
     "data": {
      "text/html": [
       "<div>\n",
       "<style>\n",
       "    .dataframe thead tr:only-child th {\n",
       "        text-align: right;\n",
       "    }\n",
       "\n",
       "    .dataframe thead th {\n",
       "        text-align: left;\n",
       "    }\n",
       "\n",
       "    .dataframe tbody tr th {\n",
       "        vertical-align: top;\n",
       "    }\n",
       "</style>\n",
       "<table border=\"1\" class=\"dataframe\">\n",
       "  <thead>\n",
       "    <tr style=\"text-align: right;\">\n",
       "      <th></th>\n",
       "      <th>League</th>\n",
       "      <th>GameKey</th>\n",
       "      <th>GameTime</th>\n",
       "      <th>Home</th>\n",
       "      <th>Away</th>\n",
       "      <th>Bet</th>\n",
       "      <th>On</th>\n",
       "      <th>Juice</th>\n",
       "      <th>Type</th>\n",
       "      <th>Result</th>\n",
       "      <th>MLBet</th>\n",
       "      <th>MLWinner</th>\n",
       "      <th>Handicapper</th>\n",
       "    </tr>\n",
       "  </thead>\n",
       "  <tbody>\n",
       "    <tr>\n",
       "      <th>count</th>\n",
       "      <td>134880</td>\n",
       "      <td>134880</td>\n",
       "      <td>134880</td>\n",
       "      <td>134880</td>\n",
       "      <td>134880</td>\n",
       "      <td>134880</td>\n",
       "      <td>134880</td>\n",
       "      <td>134880</td>\n",
       "      <td>134880</td>\n",
       "      <td>134880</td>\n",
       "      <td>134880</td>\n",
       "      <td>134880</td>\n",
       "      <td>134880</td>\n",
       "    </tr>\n",
       "    <tr>\n",
       "      <th>unique</th>\n",
       "      <td>7</td>\n",
       "      <td>38583</td>\n",
       "      <td>18265</td>\n",
       "      <td>442</td>\n",
       "      <td>450</td>\n",
       "      <td>3</td>\n",
       "      <td>441</td>\n",
       "      <td>387</td>\n",
       "      <td>2</td>\n",
       "      <td>3</td>\n",
       "      <td>3</td>\n",
       "      <td>3</td>\n",
       "      <td>30</td>\n",
       "    </tr>\n",
       "    <tr>\n",
       "      <th>top</th>\n",
       "      <td>MLB</td>\n",
       "      <td>2899b2606b2a35f67a4f5aa20443ba44</td>\n",
       "      <td>2017-11-19 13:00:00</td>\n",
       "      <td>WASHINGTON</td>\n",
       "      <td>WASHINGTON</td>\n",
       "      <td>POINT SPREAD</td>\n",
       "      <td>OVER</td>\n",
       "      <td>-110</td>\n",
       "      <td>Premium</td>\n",
       "      <td>Win</td>\n",
       "      <td></td>\n",
       "      <td></td>\n",
       "      <td>HC22</td>\n",
       "    </tr>\n",
       "    <tr>\n",
       "      <th>freq</th>\n",
       "      <td>39376</td>\n",
       "      <td>36</td>\n",
       "      <td>82</td>\n",
       "      <td>3483</td>\n",
       "      <td>3582</td>\n",
       "      <td>66452</td>\n",
       "      <td>14551</td>\n",
       "      <td>28123</td>\n",
       "      <td>126466</td>\n",
       "      <td>68269</td>\n",
       "      <td>94087</td>\n",
       "      <td>94396</td>\n",
       "      <td>10896</td>\n",
       "    </tr>\n",
       "    <tr>\n",
       "      <th>first</th>\n",
       "      <td>NaN</td>\n",
       "      <td>NaN</td>\n",
       "      <td>2013-07-04 19:07:00</td>\n",
       "      <td>NaN</td>\n",
       "      <td>NaN</td>\n",
       "      <td>NaN</td>\n",
       "      <td>NaN</td>\n",
       "      <td>NaN</td>\n",
       "      <td>NaN</td>\n",
       "      <td>NaN</td>\n",
       "      <td>NaN</td>\n",
       "      <td>NaN</td>\n",
       "      <td>NaN</td>\n",
       "    </tr>\n",
       "    <tr>\n",
       "      <th>last</th>\n",
       "      <td>NaN</td>\n",
       "      <td>NaN</td>\n",
       "      <td>2018-04-11 20:00:00</td>\n",
       "      <td>NaN</td>\n",
       "      <td>NaN</td>\n",
       "      <td>NaN</td>\n",
       "      <td>NaN</td>\n",
       "      <td>NaN</td>\n",
       "      <td>NaN</td>\n",
       "      <td>NaN</td>\n",
       "      <td>NaN</td>\n",
       "      <td>NaN</td>\n",
       "      <td>NaN</td>\n",
       "    </tr>\n",
       "  </tbody>\n",
       "</table>\n",
       "</div>"
      ],
      "text/plain": [
       "        League                           GameKey             GameTime  \\\n",
       "count   134880                            134880               134880   \n",
       "unique       7                             38583                18265   \n",
       "top        MLB  2899b2606b2a35f67a4f5aa20443ba44  2017-11-19 13:00:00   \n",
       "freq     39376                                36                   82   \n",
       "first      NaN                               NaN  2013-07-04 19:07:00   \n",
       "last       NaN                               NaN  2018-04-11 20:00:00   \n",
       "\n",
       "              Home        Away           Bet      On   Juice     Type  Result  \\\n",
       "count       134880      134880        134880  134880  134880   134880  134880   \n",
       "unique         442         450             3     441     387        2       3   \n",
       "top     WASHINGTON  WASHINGTON  POINT SPREAD    OVER    -110  Premium     Win   \n",
       "freq          3483        3582         66452   14551   28123   126466   68269   \n",
       "first          NaN         NaN           NaN     NaN     NaN      NaN     NaN   \n",
       "last           NaN         NaN           NaN     NaN     NaN      NaN     NaN   \n",
       "\n",
       "         MLBet MLWinner Handicapper  \n",
       "count   134880   134880      134880  \n",
       "unique       3        3          30  \n",
       "top                            HC22  \n",
       "freq     94087    94396       10896  \n",
       "first      NaN      NaN         NaN  \n",
       "last       NaN      NaN         NaN  "
      ]
     },
     "execution_count": 6,
     "metadata": {},
     "output_type": "execute_result"
    }
   ],
   "source": [
    "df.describe()"
   ]
  },
  {
   "cell_type": "code",
   "execution_count": 57,
   "metadata": {},
   "outputs": [
    {
     "data": {
      "image/png": "[encoded data removed]",
      "text/plain": [
       "<matplotlib.figure.Figure at 0x12abb7470>"
      ]
     },
     "metadata": {},
     "output_type": "display_data"
    }
   ],
   "source": [
    "# Distribution according to League\n",
    "plt.bar(df.sort_values(by='League').League.unique(), df.groupby(['League']).size())\n",
    "plt.title('Distribution by Sports League')\n",
    "plt.xlabel('Sports League')\n",
    "plt.ylabel('Observations')\n",
    "plt.show()"
   ]
  },
  {
   "cell_type": "code",
   "execution_count": 33,
   "metadata": {},
   "outputs": [
    {
     "data": {
      "image/png": "[encoded data removed]",
      "text/plain": [
       "<matplotlib.figure.Figure at 0x116fddb70>"
      ]
     },
     "metadata": {},
     "output_type": "display_data"
    }
   ],
   "source": [
    "# Distribution by Handicapper\n",
    "plt.bar(df.sort_values(by='Handicapper').Handicapper.unique(), df.groupby(['Handicapper']).size())\n",
    "plt.title('Distribution by Handicapper')\n",
    "plt.xlabel('Handicapper')\n",
    "plt.ylabel('Observations')\n",
    "plt.show()"
   ]
  },
  {
   "cell_type": "code",
   "execution_count": 59,
   "metadata": {},
   "outputs": [
    {
     "data": {
      "image/png": "[encoded data removed]",
      "text/plain": [
       "<matplotlib.figure.Figure at 0x11ae81a58>"
      ]
     },
     "metadata": {},
     "output_type": "display_data"
    }
   ],
   "source": [
    "# Distribution by Handicapper\n",
    "plt.bar(df.sort_values(by='Handicapper').Handicapper.unique(), df.groupby(['Handicapper']).size())\n",
    "plt.title('Distribution by Handicapper')\n",
    "plt.xlabel('Handicapper')\n",
    "plt.ylabel('Observations')\n",
    "plt.show()"
   ]
  },
  {
   "cell_type": "code",
   "execution_count": 43,
   "metadata": {},
   "outputs": [
    {
     "data": {
      "image/png": "[encoded data removed]",
      "text/plain": [
       "<matplotlib.figure.Figure at 0x11401e390>"
      ]
     },
     "metadata": {},
     "output_type": "display_data"
    }
   ],
   "source": [
    "# Distribution by Juice\n",
    "plt.hist(df['Juice'].dropna().values, bins=10)\n",
    "plt.xlabel('Juice Range')\n",
    "plt.ylabel('Observations')\n",
    "plt.title('Distribution by Juice values')\n",
    "plt.show()"
   ]
  },
  {
   "cell_type": "code",
   "execution_count": 24,
   "metadata": {},
   "outputs": [
    {
     "data": {
      "text/plain": [
       "array(['CFL', 'MLB', 'NBA', 'NCAAB', 'NCAAF', 'NFL', 'NHL'], dtype=object)"
      ]
     },
     "execution_count": 24,
     "metadata": {},
     "output_type": "execute_result"
    }
   ],
   "source": [
    "df.sort_values(by='League').League.unique()"
   ]
  },
  {
   "cell_type": "code",
   "execution_count": 48,
   "metadata": {},
   "outputs": [
    {
     "name": "stdout",
     "output_type": "stream",
     "text": [
      "Number of observations:  134880\n",
      "Number of columns:  13\n",
      "Features available:  Index(['League', 'GameKey', 'GameTime', 'Home', 'Away', 'Bet', 'On', 'Juice',\n",
      "       'Type', 'Result', 'MLBet', 'MLWinner', 'Handicapper'],\n",
      "      dtype='object')\n"
     ]
    }
   ],
   "source": [
    "\n",
    "print(\"Number of observations: \", df.shape[0])\n",
    "print(\"Number of columns: \", df.shape[1])\n",
    "print(\"Features available: \", df.columns)"
   ]
  },
  {
   "cell_type": "code",
   "execution_count": 49,
   "metadata": {},
   "outputs": [
    {
     "name": "stdout",
     "output_type": "stream",
     "text": [
      "<class 'pandas.core.frame.DataFrame'>\n",
      "RangeIndex: 134880 entries, 0 to 134879\n",
      "Data columns (total 13 columns):\n",
      "League         134880 non-null object\n",
      "GameKey        134880 non-null object\n",
      "GameTime       134880 non-null datetime64[ns]\n",
      "Home           134880 non-null object\n",
      "Away           134880 non-null object\n",
      "Bet            134880 non-null object\n",
      "On             134880 non-null object\n",
      "Juice          134880 non-null object\n",
      "Type           134880 non-null object\n",
      "Result         134880 non-null object\n",
      "MLBet          134880 non-null object\n",
      "MLWinner       134880 non-null object\n",
      "Handicapper    134880 non-null object\n",
      "dtypes: datetime64[ns](1), object(12)\n",
      "memory usage: 13.4+ MB\n"
     ]
    }
   ],
   "source": [
    "df.info()"
   ]
  },
  {
   "cell_type": "code",
   "execution_count": 51,
   "metadata": {},
   "outputs": [
    {
     "data": {
      "text/html": [
       "<div>\n",
       "<style>\n",
       "    .dataframe thead tr:only-child th {\n",
       "        text-align: right;\n",
       "    }\n",
       "\n",
       "    .dataframe thead th {\n",
       "        text-align: left;\n",
       "    }\n",
       "\n",
       "    .dataframe tbody tr th {\n",
       "        vertical-align: top;\n",
       "    }\n",
       "</style>\n",
       "<table border=\"1\" class=\"dataframe\">\n",
       "  <thead>\n",
       "    <tr style=\"text-align: right;\">\n",
       "      <th></th>\n",
       "      <th>League</th>\n",
       "      <th>GameKey</th>\n",
       "      <th>Home</th>\n",
       "      <th>Away</th>\n",
       "      <th>Bet</th>\n",
       "      <th>On</th>\n",
       "      <th>Juice</th>\n",
       "      <th>Type</th>\n",
       "      <th>Result</th>\n",
       "      <th>MLBet</th>\n",
       "      <th>MLWinner</th>\n",
       "      <th>Handicapper</th>\n",
       "    </tr>\n",
       "  </thead>\n",
       "  <tbody>\n",
       "    <tr>\n",
       "      <th>count</th>\n",
       "      <td>134880</td>\n",
       "      <td>134880</td>\n",
       "      <td>134880</td>\n",
       "      <td>134880</td>\n",
       "      <td>134880</td>\n",
       "      <td>134880</td>\n",
       "      <td>134880</td>\n",
       "      <td>134880</td>\n",
       "      <td>134880</td>\n",
       "      <td>134880</td>\n",
       "      <td>134880</td>\n",
       "      <td>134880</td>\n",
       "    </tr>\n",
       "    <tr>\n",
       "      <th>unique</th>\n",
       "      <td>7</td>\n",
       "      <td>38583</td>\n",
       "      <td>442</td>\n",
       "      <td>450</td>\n",
       "      <td>3</td>\n",
       "      <td>441</td>\n",
       "      <td>387</td>\n",
       "      <td>2</td>\n",
       "      <td>3</td>\n",
       "      <td>3</td>\n",
       "      <td>3</td>\n",
       "      <td>30</td>\n",
       "    </tr>\n",
       "    <tr>\n",
       "      <th>top</th>\n",
       "      <td>MLB</td>\n",
       "      <td>2899b2606b2a35f67a4f5aa20443ba44</td>\n",
       "      <td>WASHINGTON</td>\n",
       "      <td>WASHINGTON</td>\n",
       "      <td>POINT SPREAD</td>\n",
       "      <td>OVER</td>\n",
       "      <td>-110</td>\n",
       "      <td>Premium</td>\n",
       "      <td>Win</td>\n",
       "      <td></td>\n",
       "      <td></td>\n",
       "      <td>HC22</td>\n",
       "    </tr>\n",
       "    <tr>\n",
       "      <th>freq</th>\n",
       "      <td>39376</td>\n",
       "      <td>36</td>\n",
       "      <td>3483</td>\n",
       "      <td>3582</td>\n",
       "      <td>66452</td>\n",
       "      <td>14551</td>\n",
       "      <td>28123</td>\n",
       "      <td>126466</td>\n",
       "      <td>68269</td>\n",
       "      <td>94087</td>\n",
       "      <td>94396</td>\n",
       "      <td>10896</td>\n",
       "    </tr>\n",
       "  </tbody>\n",
       "</table>\n",
       "</div>"
      ],
      "text/plain": [
       "        League                           GameKey        Home        Away  \\\n",
       "count   134880                            134880      134880      134880   \n",
       "unique       7                             38583         442         450   \n",
       "top        MLB  2899b2606b2a35f67a4f5aa20443ba44  WASHINGTON  WASHINGTON   \n",
       "freq     39376                                36        3483        3582   \n",
       "\n",
       "                 Bet      On   Juice     Type  Result   MLBet MLWinner  \\\n",
       "count         134880  134880  134880   134880  134880  134880   134880   \n",
       "unique             3     441     387        2       3       3        3   \n",
       "top     POINT SPREAD    OVER    -110  Premium     Win                    \n",
       "freq           66452   14551   28123   126466   68269   94087    94396   \n",
       "\n",
       "       Handicapper  \n",
       "count       134880  \n",
       "unique          30  \n",
       "top           HC22  \n",
       "freq         10896  "
      ]
     },
     "execution_count": 51,
     "metadata": {},
     "output_type": "execute_result"
    }
   ],
   "source": [
    "# Get general characteristics by column\n",
    "df.describe(include=['object', 'bool'])"
   ]
  },
  {
   "cell_type": "code",
   "execution_count": 54,
   "metadata": {},
   "outputs": [
    {
     "data": {
      "text/plain": [
       "Handicapper\n",
       "HC22    10896\n",
       "HC26     8713\n",
       "HC1      8437\n",
       "HC24     8072\n",
       "HC9      6943\n",
       "dtype: int64"
      ]
     },
     "execution_count": 54,
     "metadata": {},
     "output_type": "execute_result"
    }
   ],
   "source": [
    "# Top Handicapper contributions\n",
    "h = df.groupby(['Handicapper']).size()\n",
    "h.sort_values(ascending=False).head()"
   ]
  },
  {
   "cell_type": "code",
   "execution_count": null,
   "metadata": {
    "collapsed": true
   },
   "outputs": [],
   "source": []
  }
 ],
 "metadata": {
  "kernelspec": {
   "display_name": "Python 3",
   "language": "python",
   "name": "python3"
  },
  "language_info": {
   "codemirror_mode": {
    "name": "ipython",
    "version": 3
   },
   "file_extension": ".py",
   "mimetype": "text/x-python",
   "name": "python",
   "nbconvert_exporter": "python",
   "pygments_lexer": "ipython3",
   "version": "3.6.3"
  }
 },
 "nbformat": 4,
 "nbformat_minor": 2
}
