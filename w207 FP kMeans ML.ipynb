{
 "cells": [
  {
   "cell_type": "code",
   "execution_count": 30,
   "metadata": {},
   "outputs": [],
   "source": [
    "# Import necessary libraries\n",
    "\n",
    "% matplotlib inline\n",
    "\n",
    "import numpy as np\n",
    "import pandas as pd\n",
    "import matplotlib.pyplot as plt\n",
    "from sklearn.cluster import KMeans\n",
    "from sklearn import metrics\n",
    "from sklearn.decomposition import PCA"
   ]
  },
  {
   "cell_type": "code",
   "execution_count": 48,
   "metadata": {},
   "outputs": [],
   "source": [
    "# Setup Data\n",
    "source_dir = '/Users/jzuniga/Downloads/HCData/'\n",
    "names = [\n",
    "    'Smart',\n",
    "    'Bartley',\n",
    "    'Aronson',\n",
    "    'Burns',\n",
    "    'Barone', # not in Ji's original list\n",
    "    'Bitler',\n",
    "    'Power',\n",
    "    'Ross',\n",
    "    'Diamond',\n",
    "    'Trapp',\n",
    "    'Sports',\n",
    "    'Eddie',\n",
    "    'Schule',\n",
    "    'DAmico',\n",
    "    'Duffy',\n",
    "    'Thomas',\n",
    "    'Hunter',\n",
    "    'Compeau', # not in Ji's original list\n",
    "    'Syndicate',\n",
    "    'Lundin',\n",
    "    'Simulator',\n",
    "    'Wilson',\n",
    "    'Monohan',\n",
    "    'Vinceletti',\n",
    "    'Rickenbach',\n",
    "    'Higgs',\n",
    "    'Nover',\n",
    "    'Brown',\n",
    "    'Karpinski',\n",
    "    'Rogers'\n",
    "    ]\n",
    "\n",
    "df = pd.DataFrame()\n",
    "for i in range(1,31): \n",
    "    tmp_df = pd.read_pickle(source_dir + 'HC' + str(i) + '.gz', compression='gzip')\n",
    "    \n",
    "    # if you want the last name of the HC, switch to use names array\n",
    "    tmp_df['Handicapper'] = 'HC'+str(i)\n",
    "    df = df.append(tmp_df, ignore_index=True)\n",
    "    \n",
    "# Engineer features\n",
    "dummy_columns = ['League', 'Bet', 'Home', 'Away', 'Type', 'Handicapper']\n",
    "df_d = pd.get_dummies(df.loc[df.Result=='Win', dummy_columns], columns=dummy_columns)\n",
    "\n",
    "# Reduce columns\n",
    "pca = PCA(n_components=20)\n",
    "df_d_pca = pca.fit_transform(df_d)\n",
    "\n",
    "# Create Training Set\n",
    "train_data = df_d_pca[:94400]\n",
    "\n",
    "\n",
    "# Create Test Set\n",
    "test_data = df_d_pca[94400:]"
   ]
  },
  {
   "cell_type": "code",
   "execution_count": 46,
   "metadata": {},
   "outputs": [
    {
     "data": {
      "text/plain": [
       "KMeans(algorithm='auto', copy_x=True, init='k-means++', max_iter=300,\n",
       "    n_clusters=16, n_init=10, n_jobs=1, precompute_distances='auto',\n",
       "    random_state=None, tol=0.0001, verbose=0)"
      ]
     },
     "execution_count": 46,
     "metadata": {},
     "output_type": "execute_result"
    }
   ],
   "source": [
    "# Run clusters on correctly predicted data\n",
    "kmeans = KMeans(init='k-means++', n_clusters=16, n_init=10)\n",
    "kmeans.fit(train_data)"
   ]
  },
  {
   "cell_type": "code",
   "execution_count": 49,
   "metadata": {},
   "outputs": [
    {
     "data": {
      "text/plain": [
       "Text(0.5,1,'K-means clusters over 2d data')"
      ]
     },
     "execution_count": 49,
     "metadata": {},
     "output_type": "execute_result"
    },
    {
     "data": {
      "image/png": "[encoded data removed]",
      "text/plain": [
       "<matplotlib.figure.Figure at 0x1a321cdc18>"
      ]
     },
     "metadata": {},
     "output_type": "display_data"
    }
   ],
   "source": [
    "# Plot the data\n",
    "plt.plot(train_data[:, 0], train_data[:, 1], 'k.', markersize=2)\n",
    "    \n",
    "    # Plot the centroids as a blue circles\n",
    "centroids = kmeans.cluster_centers_\n",
    "plt.scatter(centroids[:, 0], centroids[:, 1],\n",
    "            marker='o', s=169, linewidths=3,\n",
    "            color='b', zorder=10)\n",
    "plt.title('K-means clusters over 2d data')\n"
   ]
  }
 ],
 "metadata": {
  "kernelspec": {
   "display_name": "Python 3",
   "language": "python",
   "name": "python3"
  },
  "language_info": {
   "codemirror_mode": {
    "name": "ipython",
    "version": 3
   },
   "file_extension": ".py",
   "mimetype": "text/x-python",
   "name": "python",
   "nbconvert_exporter": "python",
   "pygments_lexer": "ipython3",
   "version": "3.6.3"
  }
 },
 "nbformat": 4,
 "nbformat_minor": 2
}
