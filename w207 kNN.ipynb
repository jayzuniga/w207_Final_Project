{
 "cells": [
  {
   "cell_type": "code",
   "execution_count": 3,
   "metadata": {
    "collapsed": true
   },
   "outputs": [],
   "source": [
    "# Setup up \n",
    "% matplotlib inline\n",
    "\n",
    "import numpy as np\n",
    "import pandas as pd\n",
    "import matplotlib.pyplot as plt\n",
    "from sklearn.neighbors import KNeighborsClassifier\n",
    "from sklearn.decomposition import PCA\n",
    "from sklearn import metrics"
   ]
  },
  {
   "cell_type": "code",
   "execution_count": 7,
   "metadata": {},
   "outputs": [],
   "source": [
    "# Setup Data courtesy of Ji/Kevin script\n",
    "source_dir = '/Users/jzuniga/Downloads/HCData/'\n",
    "names = [\n",
    "    'Smart',\n",
    "    'Bartley',\n",
    "    'Aronson',\n",
    "    'Burns',\n",
    "    'Barone', # not in Ji's original list\n",
    "    'Bitler',\n",
    "    'Power',\n",
    "    'Ross',\n",
    "    'Diamond',\n",
    "    'Trapp',\n",
    "    'Sports',\n",
    "    'Eddie',\n",
    "    'Schule',\n",
    "    'DAmico',\n",
    "    'Duffy',\n",
    "    'Thomas',\n",
    "    'Hunter',\n",
    "    'Compeau', # not in Ji's original list\n",
    "    'Syndicate',\n",
    "    'Lundin',\n",
    "    'Simulator',\n",
    "    'Wilson',\n",
    "    'Monohan',\n",
    "    'Vinceletti',\n",
    "    'Rickenbach',\n",
    "    'Higgs',\n",
    "    'Nover',\n",
    "    'Brown',\n",
    "    'Karpinski',\n",
    "    'Rogers'\n",
    "    ]\n",
    "\n",
    "df = pd.DataFrame()\n",
    "for i in range(1,31): \n",
    "    tmp_df = pd.read_pickle(source_dir + 'HC' + str(i) + '.gz', compression='gzip')\n",
    "    \n",
    "    # if you want the last name of the HC, switch to use names array\n",
    "    tmp_df['Handicapper'] = 'HC'+str(i)\n",
    "    df = df.append(tmp_df, ignore_index=True)\n",
    "    \n",
    "# Engineer features - set up columns to binarize\n",
    "dummy_columns = ['League', 'Bet', 'Home', 'Away', 'Type', 'Handicapper']\n",
    "df_d = pd.get_dummies(df.loc[:, dummy_columns], columns=dummy_columns)\n",
    "\n",
    "# Create Training Set\n",
    "train_data = df_d.loc[:94400]\n",
    "train_labels = df.loc[:94400, 'Result']\n",
    "\n",
    "# Create Test Set\n",
    "test_data = df_d.loc[94400:]\n",
    "test_labels = df.loc[94400:, 'Result']"
   ]
  },
  {
   "cell_type": "code",
   "execution_count": 8,
   "metadata": {},
   "outputs": [
    {
     "data": {
      "text/plain": [
       "KNeighborsClassifier(algorithm='auto', leaf_size=30, metric='minkowski',\n",
       "           metric_params=None, n_jobs=1, n_neighbors=5, p=2,\n",
       "           weights='uniform')"
      ]
     },
     "execution_count": 8,
     "metadata": {},
     "output_type": "execute_result"
    }
   ],
   "source": [
    "# Create model\n",
    "knn = KNeighborsClassifier(n_neighbors=5)\n",
    "knn.fit(train_data, train_labels)"
   ]
  },
  {
   "cell_type": "code",
   "execution_count": 9,
   "metadata": {},
   "outputs": [
    {
     "ename": "NameError",
     "evalue": "name 'accuracy_score' is not defined",
     "output_type": "error",
     "traceback": [
      "\u001b[0;31m---------------------------------------------------------------------------\u001b[0m",
      "\u001b[0;31mNameError\u001b[0m                                 Traceback (most recent call last)",
      "\u001b[0;32m<ipython-input-9-3568fadd21cd>\u001b[0m in \u001b[0;36m<module>\u001b[0;34m()\u001b[0m\n\u001b[1;32m      1\u001b[0m \u001b[0mpred\u001b[0m \u001b[0;34m=\u001b[0m \u001b[0mknn\u001b[0m\u001b[0;34m.\u001b[0m\u001b[0mpredict\u001b[0m\u001b[0;34m(\u001b[0m\u001b[0mtest_data\u001b[0m\u001b[0;34m)\u001b[0m\u001b[0;34m\u001b[0m\u001b[0m\n\u001b[1;32m      2\u001b[0m \u001b[0;34m\u001b[0m\u001b[0m\n\u001b[0;32m----> 3\u001b[0;31m \u001b[0maccuracy_score\u001b[0m\u001b[0;34m(\u001b[0m\u001b[0mtest_labels\u001b[0m\u001b[0;34m,\u001b[0m \u001b[0mpred\u001b[0m\u001b[0;34m)\u001b[0m\u001b[0;34m\u001b[0m\u001b[0m\n\u001b[0m",
      "\u001b[0;31mNameError\u001b[0m: name 'accuracy_score' is not defined"
     ]
    }
   ],
   "source": [
    "# Use model to predict and get the accuracy\n",
    "pred = knn.predict(test_data)\n",
    "\n",
    "metrics.accuracy_score(test_labels, pred)"
   ]
  },
  {
   "cell_type": "code",
   "execution_count": 11,
   "metadata": {},
   "outputs": [
    {
     "data": {
      "text/plain": [
       "0.5114377470355731"
      ]
     },
     "execution_count": 11,
     "metadata": {},
     "output_type": "execute_result"
    }
   ],
   "source": [
    "metrics.accuracy_score(test_labels, pred)"
   ]
  },
  {
   "cell_type": "code",
   "execution_count": null,
   "metadata": {
    "collapsed": true
   },
   "outputs": [],
   "source": []
  }
 ],
 "metadata": {
  "kernelspec": {
   "display_name": "Python 3",
   "language": "python",
   "name": "python3"
  },
  "language_info": {
   "codemirror_mode": {
    "name": "ipython",
    "version": 3
   },
   "file_extension": ".py",
   "mimetype": "text/x-python",
   "name": "python",
   "nbconvert_exporter": "python",
   "pygments_lexer": "ipython3",
   "version": "3.6.3"
  }
 },
 "nbformat": 4,
 "nbformat_minor": 2
}
