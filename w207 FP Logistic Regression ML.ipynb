{
 "cells": [
  {
   "cell_type": "code",
   "execution_count": 13,
   "metadata": {
    "collapsed": true
   },
   "outputs": [],
   "source": [
    "# Setup up libraries and Jupyter settings\n",
    "% matplotlib inline\n",
    "\n",
    "import numpy as np\n",
    "import pandas as pd\n",
    "import matplotlib.pyplot as plt\n",
    "from sklearn.linear_model import LogisticRegression\n",
    "from sklearn.model_selection import train_test_split\n",
    "from sklearn import metrics"
   ]
  },
  {
   "cell_type": "code",
   "execution_count": 21,
   "metadata": {},
   "outputs": [],
   "source": [
    "# Setup Data (courtesy of Ji/Kevin)\n",
    "source_dir = '/Users/jzuniga/Downloads/HCData/'\n",
    "names = [\n",
    "    'Smart',\n",
    "    'Bartley',\n",
    "    'Aronson',\n",
    "    'Burns',\n",
    "    'Barone', # not in Ji's original list\n",
    "    'Bitler',\n",
    "    'Power',\n",
    "    'Ross',\n",
    "    'Diamond',\n",
    "    'Trapp',\n",
    "    'Sports',\n",
    "    'Eddie',\n",
    "    'Schule',\n",
    "    'DAmico',\n",
    "    'Duffy',\n",
    "    'Thomas',\n",
    "    'Hunter',\n",
    "    'Compeau', # not in Ji's original list\n",
    "    'Syndicate',\n",
    "    'Lundin',\n",
    "    'Simulator',\n",
    "    'Wilson',\n",
    "    'Monohan',\n",
    "    'Vinceletti',\n",
    "    'Rickenbach',\n",
    "    'Higgs',\n",
    "    'Nover',\n",
    "    'Brown',\n",
    "    'Karpinski',\n",
    "    'Rogers'\n",
    "    ]\n",
    "\n",
    "df = pd.DataFrame()\n",
    "for i in range(1,31): \n",
    "    tmp_df = pd.read_pickle(source_dir + 'HC' + str(i) + '.gz', compression='gzip')\n",
    "    \n",
    "    # if you want the last name of the HC, switch to use names array\n",
    "    tmp_df['Handicapper'] = 'HC'+str(i)\n",
    "    df = df.append(tmp_df, ignore_index=True)\n",
    "    \n",
    "# Engineer features\n",
    "dummy_columns = ['League', 'Bet', 'Home', 'Away', 'Type', 'Handicapper']\n",
    "df_d = pd.get_dummies(df.loc[:, dummy_columns], columns=dummy_columns)\n",
    "\n",
    "# Create Training Set\n",
    "train_data = df_d.loc[:94400]\n",
    "train_labels = df.loc[:94400, 'Result']\n",
    "\n",
    "# Create Test Set\n",
    "test_data = df_d.loc[94400:]\n",
    "test_labels = df.loc[94400:, 'Result']"
   ]
  },
  {
   "cell_type": "code",
   "execution_count": 22,
   "metadata": {},
   "outputs": [],
   "source": [
    "# Create model \n",
    "lr = LogisticRegression()\n",
    "lr.fit(train_data, train_labels)"
   ]
  },
  {
   "cell_type": "code",
   "execution_count": 23,
   "metadata": {},
   "outputs": [],
   "source": [
    "# Predict\n",
    "pred = lr.predict(test_data)"
   ]
  },
  {
   "cell_type": "code",
   "execution_count": 25,
   "metadata": {},
   "outputs": [
    {
     "data": {
      "text/plain": [
       "0.50140810276679837"
      ]
     },
     "execution_count": 25,
     "metadata": {},
     "output_type": "execute_result"
    }
   ],
   "source": [
    "# Measure Accuracy\n",
    "metrics.accuracy_score(pred, test_labels)"
   ]
  },
  {
   "cell_type": "code",
   "execution_count": null,
   "metadata": {
    "collapsed": true
   },
   "outputs": [],
   "source": []
  }
 ],
 "metadata": {
  "kernelspec": {
   "display_name": "Python 3",
   "language": "python",
   "name": "python3"
  },
  "language_info": {
   "codemirror_mode": {
    "name": "ipython",
    "version": 3
   },
   "file_extension": ".py",
   "mimetype": "text/x-python",
   "name": "python",
   "nbconvert_exporter": "python",
   "pygments_lexer": "ipython3",
   "version": "3.6.3"
  }
 },
 "nbformat": 4,
 "nbformat_minor": 2
}
