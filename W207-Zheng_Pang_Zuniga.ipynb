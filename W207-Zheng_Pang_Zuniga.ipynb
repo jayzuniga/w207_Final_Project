{
 "cells": [
  {
   "cell_type": "markdown",
   "metadata": {},
   "source": [
    "# Sports Betting Using Handicapper Data\n",
    "\n",
    "Submitted by:\n",
    "* Ji Zheng\n",
    "* Ye (Kevin) Pang\n",
    "* Jay Zuniga\n",
    "\n",
    "Date: April 18, 2018\n",
    "\n",
    "Web data scrapped from https://www.sportschatexperts.com/index/cappers/"
   ]
  },
  {
   "cell_type": "markdown",
   "metadata": {},
   "source": [
    "## Contents <a name='top' />"
   ]
  },
  {
   "cell_type": "markdown",
   "metadata": {},
   "source": [
    "* <a href='#background'>Background</a>\n",
    "* <a href='#data'>Data Preparation</a>\n",
    "* <a href='#eda'>Exploratory Analysis</a>\n",
    "* <a href='#knn'>k-Nearest Neighbors (kNN)</a>\n",
    "* <a href='#nb'>Naive Bayes (NB)</a>\n",
    "* <a href='#lr'>Logistic Regression (LR)</a>\n",
    "* <a href='#rf'>Random Forest (RF)</a>\n",
    "* <a href='#gbm'>Gradient Boosting Machine (GBM)</a>\n",
    "* <a href='#svm'>Support Vector Machines (SVM)</a>\n",
    "* <a href='#kmeans'>K-means Clustering</a>\n",
    "* <a href='#gmm'>Gaussian Mixture Model (GMM)</a>\n",
    "* <a href='#ensemble'>Multilayer Perceptron</a>\n",
    "* <a href='#results'>Ensemble</a>\n",
    "* <a href='#appendix_a'>Appendix A</a>\n",
    "* <a href='#appendix_b'>Appendix B</a>"
   ]
  },
  {
   "cell_type": "markdown",
   "metadata": {},
   "source": [
    "Time permitting, we wanted to explore classifiers that we covered in the course. These are:\n",
    "\n",
    "**Supervised**:    \n",
    "- k Nearest Neighbors\n",
    "- Naive Bayes\n",
    "- Logistic Regression\n",
    "- Random Forest\n",
    "- Gradient Boosting Machines\n",
    "- Support Vector Machines\n",
    "\n",
    "**Unsupervised**:\n",
    "- K-means\n",
    "- Gaussian Mixture Model\n",
    "\n",
    "**Deep learning**:\n",
    "- Multilayer perceptron"
   ]
  },
  {
   "cell_type": "markdown",
   "metadata": {},
   "source": [
    "## Background <a name='background' />\n",
    "\n",
    "<a href='#top'>[Back to Contents]</a>\n",
    "\n",
    "Sports Betting has become a very big market in the USA, with the legal side estimated at over 4 Billion USD and the total market estimated at 150 Billion USD. As a response to this market, handicappers have started offering their predictions, usually for a fee. Handicappers offer their predictions on specific games.\n",
    "\n",
    "Our team aims to use ML to:\n",
    "* Identify (if any) handicappers that are most accurate for a given game (league, team)\n",
    "* Use the handicapper’s data to predict the outcome of the game for automated money-line betting"
   ]
  },
  {
   "cell_type": "markdown",
   "metadata": {},
   "source": [
    "## Data Preparation <a name='data' />\n",
    "\n",
    "<a href='#top'>[Back to Contents]</a>"
   ]
  },
  {
   "cell_type": "markdown",
   "metadata": {},
   "source": [
    "#### Import packages"
   ]
  },
  {
   "cell_type": "code",
   "execution_count": 8,
   "metadata": {},
   "outputs": [],
   "source": [
    "import requests, bs4, hashlib, collections \n",
    "import pandas as pd, numpy as np\n",
    "import matplotlib.pyplot as plt\n",
    "%matplotlib inline"
   ]
  },
  {
   "cell_type": "markdown",
   "metadata": {},
   "source": [
    "#### Web scrapping (No need to run this step since we have saved the datasets)"
   ]
  },
  {
   "cell_type": "code",
   "execution_count": 10,
   "metadata": {},
   "outputs": [],
   "source": [
    "# # Web scrapping \n",
    "# # Try an example on MIT SIMULATOR, https://www.sportschatexperts.com/index/capperhistory/capper_id/68/\n",
    "# def get_html(url):\n",
    "#     html = requests.get(url)\n",
    "#     try:\n",
    "#         html.raise_for_status()\n",
    "#     except Exception as exc:\n",
    "#         print('There was a problem: %s' % exc)\n",
    "#     html = bs4.BeautifulSoup(html.text, \"html5lib\")\n",
    "#     return html\n",
    "\n",
    "# def get_next_url(html):\n",
    "#     # find the next button\n",
    "#     return html.find('a', string='Next')['href']\n",
    "\n",
    "# def merge_table(url, stop_page=-1, data=[]):\n",
    "#     cur_page = 0\n",
    "#     while True:\n",
    "#         cur_page += 1\n",
    "#         if cur_page % 50 == 0:\n",
    "#             print(\"\\tProcess %s ...\" % url)\n",
    "#         html = get_html(url)\n",
    "#         table = html.find('section', class_='leaderboards diffpadding').div.table\n",
    "#         table_body = table.find('tbody')       \n",
    "#         rows = table_body.find_all('tr', class_='leaderboards_row2 fix-border-bottom ph-first-row')\n",
    "#         for row in rows:\n",
    "#             cols = row.find_all('td')\n",
    "#             # make sure the targeted row for extraction has 10 columns\n",
    "#             if len(cols) == 10:\n",
    "#                 # only want to keep these columns\n",
    "#                 keep_columns = [1, 2, 3, 4, 5, 6, 7, 8]\n",
    "#                 cols = [ele.text.strip() for ele in [cols[i] for i in keep_columns]]\n",
    "#                 data.append([ele for ele in cols if ele]) # Get rid of empty values\n",
    "#         url = get_next_url(html)\n",
    "#         if (url == '#') or cur_page >= stop_page:\n",
    "#             break\n",
    "            \n",
    "# def crawl_history():\n",
    "#     names = [\n",
    "#     'Smart',\n",
    "#     'Bartley',\n",
    "#     'Aronson',\n",
    "#     'Burns',\n",
    "#     'Barone', # not in Ji's original list\n",
    "#     'Bitler',\n",
    "#     'Power',\n",
    "#     'Ross',\n",
    "#     'Diamond',\n",
    "#     'Trapp',\n",
    "#     'Sports',\n",
    "#     'Eddie',\n",
    "#     'Schule',\n",
    "#     'DAmico',\n",
    "#     'Duffy',\n",
    "#     'Thomas',\n",
    "#     'Hunter',\n",
    "#     'Compeau', # not in Ji's original list\n",
    "#     'Syndicate',\n",
    "#     'Lundin',\n",
    "#     'Simulator',\n",
    "#     'Wilson',\n",
    "#     'Monohan',\n",
    "#     'Vinceletti',\n",
    "#     'Rickenbach',\n",
    "#     'Higgs',\n",
    "#     'Nover',\n",
    "#     'Brown',\n",
    "#     'Karpinski',\n",
    "#     'Rogers'\n",
    "#     ]\n",
    "\n",
    "#     links = [\n",
    "#     \"https://www.sportschatexperts.com/index/capperhistory/capper_id/44/\", \n",
    "#     \"https://www.sportschatexperts.com/index/capperhistory/capper_id/33/\",\n",
    "#     \"https://www.sportschatexperts.com/index/capperhistory/capper_id/50/\",\n",
    "#     \"https://www.sportschatexperts.com/index/capperhistory/capper_id/67/\",\n",
    "#     \"https://www.sportschatexperts.com/index/capperhistory/capper_id/69/\",\n",
    "#     \"https://www.sportschatexperts.com/index/capperhistory/capper_id/65/\",\n",
    "#     \"https://www.sportschatexperts.com/index/capperhistory/capper_id/62/\",\n",
    "#     \"https://www.sportschatexperts.com/index/capperhistory/capper_id/66/\",\n",
    "#     \"https://www.sportschatexperts.com/index/capperhistory/capper_id/36/\",\n",
    "#     \"https://www.sportschatexperts.com/index/capperhistory/capper_id/29/\",\n",
    "#     \"https://www.sportschatexperts.com/index/capperhistory/capper_id/45/\", \n",
    "#     \"https://www.sportschatexperts.com/index/capperhistory/capper_id/38/\",\n",
    "#     \"https://www.sportschatexperts.com/index/capperhistory/capper_id/52/\",\n",
    "#     \"https://www.sportschatexperts.com/index/capperhistory/capper_id/35/\",\n",
    "#     \"https://www.sportschatexperts.com/index/capperhistory/capper_id/37/\",\n",
    "#     \"https://www.sportschatexperts.com/index/capperhistory/capper_id/53/\",\n",
    "#     \"https://www.sportschatexperts.com/index/capperhistory/capper_id/41/\",\n",
    "#     \"https://www.sportschatexperts.com/index/capperhistory/capper_id/56/\",\n",
    "#     \"https://www.sportschatexperts.com/index/capperhistory/capper_id/58/\",\n",
    "#     \"https://www.sportschatexperts.com/index/capperhistory/capper_id/61/\",\n",
    "#     \"https://www.sportschatexperts.com/index/capperhistory/capper_id/68/\", \n",
    "#     \"https://www.sportschatexperts.com/index/capperhistory/capper_id/30/\",\n",
    "#     \"https://www.sportschatexperts.com/index/capperhistory/capper_id/43/\",\n",
    "#     \"https://www.sportschatexperts.com/index/capperhistory/capper_id/46/\",\n",
    "#     \"https://www.sportschatexperts.com/index/capperhistory/capper_id/57/\",\n",
    "#     \"https://www.sportschatexperts.com/index/capperhistory/capper_id/40/\",\n",
    "#     \"https://www.sportschatexperts.com/index/capperhistory/capper_id/51/\",\n",
    "#     \"https://www.sportschatexperts.com/index/capperhistory/capper_id/42/\",\n",
    "#     \"https://www.sportschatexperts.com/index/capperhistory/capper_id/60/\",\n",
    "#     \"https://www.sportschatexperts.com/index/capperhistory/capper_id/55/\",\n",
    "#     ]\n",
    "    \n",
    "#     handicappers_dict = collections.OrderedDict(zip(names, links))\n",
    "    \n",
    "#     for k, v in handicappers_dict.items():\n",
    "#         data=[]\n",
    "#         merge_table(v, 9999, data)\n",
    "#         #print(data)\n",
    "#         df = pd.DataFrame(data, columns=['League', 'Game', 'Date', 'Play', 'Line Selected', 'Type', 'Score', 'Result'])\n",
    "#         filename = 'HC' + str(list(handicappers_dict.keys()).index(k)+1)\n",
    "        \n",
    "#         # produce a hashed gamekey for the game\n",
    "#         df[\"GameKey\"] = df[['League', 'Game', 'Date']].apply(lambda x: hashlib.md5(''.join(x).encode('utf-8')).hexdigest(), axis=1)\n",
    "\n",
    "#         # home team is always on the right?\n",
    "#         df[\"Home\"] = df[\"Game\"].apply(lambda x: x.split('vs.')[1].strip().upper())\n",
    "\n",
    "#         # away team is always on the left?\n",
    "#         df[\"Away\"] = df[\"Game\"].apply(lambda x: x.split('vs.')[0].strip().upper())\n",
    "\n",
    "#         # strip out type of bet\n",
    "#         df[\"Bet\"] = df[\"Line Selected\"].apply(lambda x: x.split(':')[0].strip().upper())\n",
    "\n",
    "#         # strip out which team the bet is on\n",
    "#         df[\"On\"] = df[\"Play\"].apply(lambda x: x.split('Play on ')[1].strip().upper())\n",
    "\n",
    "#         # convert game time to datetime format \n",
    "#         df[\"GameTime\"] = df[\"Date\"].apply(lambda x: pd.to_datetime(x))\n",
    "\n",
    "#         # strip out juice\n",
    "#         df[\"Juice\"] = df[\"Line Selected\"].apply(lambda x: x.split(': ')[1].strip() if (\"Money Line\" in x) else (x.split(': ')[1].split('/')[0].strip() if (\"Total\" in x) else x.split(': ')[1].split('/')[1].strip()))\n",
    "\n",
    "#         # MLWinner: either home or away team for ML bets\n",
    "#         conditions = [\n",
    "#         (df['On'] == df['Home']) & (df['Bet'] == 'MONEY LINE') & (df['Result'] == 'Win'), \n",
    "#         (df['On'] == df['Away']) & (df['Bet'] == 'MONEY LINE') & (df['Result'] == 'Win'), \n",
    "#         (df['On'] == df['Home']) & (df['Bet'] == 'MONEY LINE') & (df['Result'] == 'Loss'), \n",
    "#         (df['On'] == df['Away']) & (df['Bet'] == 'MONEY LINE') & (df['Result'] == 'Loss')\n",
    "#         ]\n",
    "#         choices = ['Home', 'Away', 'Away', 'Home']\n",
    "#         df['MLWinner'] = np.select(conditions, choices, default='')\n",
    "\n",
    "#         # MLBet: either home or away team for ML bets\n",
    "#         conditions = [\n",
    "#         (df['On'] == df['Home']) & (df['Bet'] == 'MONEY LINE'), \n",
    "#         (df['On'] == df['Away']) & (df['Bet'] == 'MONEY LINE')\n",
    "#         ]\n",
    "#         choices = ['Home', 'Away']\n",
    "#         df['MLBet'] = np.select(conditions, choices, default='')\n",
    "        \n",
    "#         columns_to_keep = ['League', 'GameKey', 'GameTime', \n",
    "#                    'Home', 'Away',\n",
    "#                    'Bet', 'On',\n",
    "#                    'Juice', 'Type', 'Result',\n",
    "#                    'MLBet', 'MLWinner']\n",
    "#         #print(df[columns_to_keep].head())\n",
    "#         df[columns_to_keep].to_pickle(k + '.gz', compression=\"gzip\")       \n",
    "\n",
    "# crawl_history()"
   ]
  },
  {
   "cell_type": "markdown",
   "metadata": {},
   "source": [
    "#### Concatenate and load all 30 handicappers' betting histories into one dataframe"
   ]
  },
  {
   "cell_type": "code",
   "execution_count": 3,
   "metadata": {},
   "outputs": [],
   "source": [
    "# merge hadicappers' history bets into one dataframe\n",
    "names = [\n",
    "    'Smart',\n",
    "    'Bartley',\n",
    "    'Aronson',\n",
    "    'Burns',\n",
    "    'Barone', # not in Ji's original list\n",
    "    'Bitler',\n",
    "    'Power',\n",
    "    'Ross',\n",
    "    'Diamond',\n",
    "    'Trapp',\n",
    "    'Sports',\n",
    "    'Eddie',\n",
    "    'Schule',\n",
    "    'DAmico',\n",
    "    'Duffy',\n",
    "    'Thomas',\n",
    "    'Hunter',\n",
    "    'Compeau', # not in Ji's original list\n",
    "    'Syndicate',\n",
    "    'Lundin',\n",
    "    'Simulator',\n",
    "    'Wilson',\n",
    "    'Monohan',\n",
    "    'Vinceletti',\n",
    "    'Rickenbach',\n",
    "    'Higgs',\n",
    "    'Nover',\n",
    "    'Brown',\n",
    "    'Karpinski',\n",
    "    'Rogers'\n",
    "    ]\n",
    "\n",
    "df = pd.DataFrame()\n",
    "for i in range(1,31): \n",
    "    newdf = pd.read_pickle('HC' + str(i) + '.gz', compression='gzip')\n",
    "    \n",
    "    # if you want the last name of the HC, switch to use names array\n",
    "    #newdf['Handicapper'] = names[i-1]\n",
    "    newdf['Handicapper'] = 'HC'+str(i)\n",
    "    df = df.append(newdf, ignore_index=True)"
   ]
  },
  {
   "cell_type": "markdown",
   "metadata": {},
   "source": [
    "#### The following functions derive additonal handicapper attributes from the historical bets\n",
    "\n",
    " * number of wins in the past 30 games\n",
    " * percentage of wins in the past 30 games; for the 1st game, assume win % is 50%\n",
    " * active winning & losing streak counts \n",
    " * number of wins in the past 30 games for specific sport(league)\n",
    " * percentage of wins in the past 30 games for specific sport(league); for the 1st game, assume win % is 50%\n",
    " * active winning & losing streak counts for specific sport(league)\n",
    " * risk appetite from betting 'juice' (odds)\n",
    "   * if juice more than 120, then betting on 'underdog'\n",
    "   * if juice less than -140, then betting on 'favorite'\n",
    "   * consider everything else as betting on 'normal'\n",
    " * number of wins in the past 30 games for specific risk appetite\n",
    " * percentage of wins in the past 30 games for specific risk appetite"
   ]
  },
  {
   "cell_type": "code",
   "execution_count": 4,
   "metadata": {},
   "outputs": [],
   "source": [
    "# add column for # of wins in the past 30 games\n",
    "# add column for % of wins in the past 30 games\n",
    "# if game is 0, assume win % is 50%\n",
    "# add column for winning steak\n",
    "def win_past_30_all_sport(df):\n",
    "    df=df.sort_values(['Handicapper','GameTime'], ascending=[1,1])\n",
    "    df=df.reset_index(drop=True)\n",
    "    win_past_30=[]\n",
    "    win_past_30_all_sport_percent=[]\n",
    "    win_tracker=[]\n",
    "    win_steak=[]\n",
    "    win=0\n",
    "    lose=0\n",
    "    win_steak=[]\n",
    "    \n",
    "    pointer=0\n",
    "    last=df.League.count()\n",
    "    HC=df['Handicapper'][0]\n",
    "    while pointer < last:\n",
    "        if df['Handicapper'][pointer]!=HC:\n",
    "            HC=df['Handicapper'][pointer]\n",
    "            win_past_30.append(0)\n",
    "            win_past_30_all_sport_percent.append(0.5)\n",
    "            win_steak.append(0)\n",
    "        elif pointer == 0:\n",
    "            win_past_30.append(0)\n",
    "            win_past_30_all_sport_percent.append(0.5)\n",
    "            win_steak.append(0)\n",
    "        else: \n",
    "            win_past_30.append(sum(win_tracker))\n",
    "            mean = sum(win_tracker)/len(win_tracker)\n",
    "            win_past_30_all_sport_percent.append(mean)\n",
    "            if (win>lose):\n",
    "                win_steak.append(win)\n",
    "            else:\n",
    "                win_steak.append(-lose)\n",
    "\n",
    "        \n",
    "        if df['Result'][pointer]=='Win':\n",
    "            win_tracker.insert(0,1)\n",
    "            win+=1\n",
    "            lose=0\n",
    "        elif df['Result'][pointer]=='Push':\n",
    "            win_tracker.insert(0,1)\n",
    "        else:\n",
    "            win_tracker.insert(0,0)\n",
    "            win=0\n",
    "            lose+=1\n",
    "            \n",
    "            \n",
    "        \n",
    "        if len(win_tracker)>30:\n",
    "            win_tracker.pop()\n",
    "        pointer+=1\n",
    "\n",
    "    df['win_past_30_all_sport']=win_past_30\n",
    "    df['win_past_30_all_sport_percent']=win_past_30_all_sport_percent\n",
    "    df['win_steak_all_sport']=win_steak\n",
    "    return df\n",
    "    \n",
    "# add column for # of wins in the past 30 games for specific sport(league)\n",
    "# add column for % of wins in the past 30 games for specific sport(league)\n",
    "# if game is 0, assume win % is 50%\n",
    "# add column for winning steak for specific sport(league) \n",
    "def win_past_30_specific_sport(df):\n",
    "    df=df.sort_values(['Handicapper','League','GameTime'], ascending=[1,1,1])\n",
    "    df=df.reset_index(drop=True)\n",
    "    win_past_30=[]\n",
    "    win_past_30_specific_sport_percent=[]\n",
    "    win_tracker=[]\n",
    "    pointer=0\n",
    "    win_steak=[]\n",
    "    win=0\n",
    "    lose=0\n",
    "    last=df.League.count()\n",
    "    HC=df['Handicapper'][0]\n",
    "    League=df['League'][0]\n",
    "    while pointer < last:\n",
    "        if (df['Handicapper'][pointer]!=HC) or (df['League'][pointer]!=League):\n",
    "            HC=df['Handicapper'][pointer]\n",
    "            League=df['League'][pointer]\n",
    "            win_tracker=[]\n",
    "            win_past_30.append(0)\n",
    "            win_past_30_specific_sport_percent.append(0.5)\n",
    "            win_steak.append(0)\n",
    "        elif pointer == 0:\n",
    "            win_past_30.append(0)\n",
    "            win_past_30_specific_sport_percent.append(0.5)\n",
    "            win_steak.append(0)\n",
    "        else: \n",
    "            win_past_30.append(sum(win_tracker))\n",
    "            mean = sum(win_tracker)/len(win_tracker)\n",
    "            win_past_30_specific_sport_percent.append(mean)\n",
    "            if (win>lose):\n",
    "                win_steak.append(win)\n",
    "            else:\n",
    "                win_steak.append(-lose)\n",
    "            \n",
    "            \n",
    "        if df['Result'][pointer]=='Win':\n",
    "            win_tracker.insert(0,1)\n",
    "            win+=1\n",
    "            lose=0\n",
    "        elif df['Result'][pointer]=='Push':\n",
    "            win_tracker.insert(0,1)\n",
    "        else:\n",
    "            win_tracker.insert(0,0)\n",
    "            win=0\n",
    "            lose+=1\n",
    "            \n",
    "            \n",
    "        if len(win_tracker)>30:\n",
    "            win_tracker.pop()\n",
    "\n",
    "        pointer+=1\n",
    "    df['win_past_30_specific_sport']=win_past_30\n",
    "    df['win_past_30_specific_sport_percent']=win_past_30_specific_sport_percent\n",
    "    df['win_steak_specific_sport']=win_steak\n",
    "    return df\n",
    "\n",
    "\n",
    "## convert juice to risk level\n",
    "## if juice more than 120, then we are betting on underdog\n",
    "## if juice less than -140, then we are betting on favorite\n",
    "## I consider everything else is 'normal'\n",
    "def bet_risk(df):\n",
    "    pointer=0\n",
    "    bet_risk=[]\n",
    "    last=df.League.count()\n",
    "    while pointer < last:\n",
    "        if int(df['Juice'][pointer])>120:\n",
    "            bet_risk.append('underdog')\n",
    "        elif int(df['Juice'][pointer])<-140:\n",
    "            bet_risk.append('favorite')\n",
    "        else:\n",
    "            bet_risk.append('normal')\n",
    "        pointer+=1\n",
    "    df['bet_risk']=bet_risk\n",
    "    return df\n",
    "\n",
    "# add column for # of wins in the past 30 games for specific risk\n",
    "# add column for % of wins in the past 30 games for specific risk\n",
    "# if game is 0, assume win % is 50%\n",
    "# add column for winning steak for specific risk\n",
    "def win_past_30_specific_risk(df):\n",
    "    df=df.sort_values(['Handicapper','bet_risk','GameTime'], ascending=[1,1,1])\n",
    "    df=df.reset_index(drop=True)\n",
    "    win_past_30=[]\n",
    "    win_past_30_specific_risk_percent=[]\n",
    "    win_tracker=[]\n",
    "    pointer=0\n",
    "    last=df.League.count()\n",
    "    HC=df['Handicapper'][0]\n",
    "    Risk=df['bet_risk'][0]\n",
    "    while pointer < last:\n",
    "        if (df['Handicapper'][pointer]!=HC) or (df['bet_risk'][pointer]!=Risk):\n",
    "            HC=df['Handicapper'][pointer]\n",
    "            Risk=df['bet_risk'][pointer]\n",
    "            win_tracker=[]\n",
    "            win_past_30.append(0)\n",
    "            win_past_30_specific_risk_percent.append(0.5)\n",
    "        elif pointer == 0:\n",
    "            win_past_30.append(0)\n",
    "            win_past_30_specific_risk_percent.append(0.5)\n",
    "        else: \n",
    "            win_past_30.append(sum(win_tracker))\n",
    "            mean = sum(win_tracker)/len(win_tracker)\n",
    "            win_past_30_specific_risk_percent.append(mean)\n",
    "        if df['Result'][pointer]=='Win':\n",
    "            win_tracker.insert(0,1)\n",
    "        else:\n",
    "            win_tracker.insert(0,0)\n",
    "        if len(win_tracker)>30:\n",
    "            win_tracker.pop()\n",
    "\n",
    "        pointer+=1\n",
    "    df['win_past_30_specific_risk']=win_past_30\n",
    "    df['win_past_30_specific_risk_percent']=win_past_30_specific_risk_percent\n",
    "    return df\n",
    "\n",
    "df = win_past_30_all_sport(df)\n",
    "df = win_past_30_specific_sport(df)\n",
    "df = bet_risk(df)\n",
    "df = win_past_30_specific_risk(df)"
   ]
  },
  {
   "cell_type": "markdown",
   "metadata": {},
   "source": [
    "#### Here's our modeling dataset"
   ]
  },
  {
   "cell_type": "code",
   "execution_count": 12,
   "metadata": {},
   "outputs": [
    {
     "name": "stdout",
     "output_type": "stream",
     "text": [
      "(134880, 22)\n",
      "Index(['League', 'GameKey', 'GameTime', 'Home', 'Away', 'Bet', 'On', 'Juice',\n",
      "       'Type', 'Result', 'MLBet', 'MLWinner', 'Handicapper',\n",
      "       'win_past_30_all_sport', 'win_past_30_all_sport_percent',\n",
      "       'win_steak_all_sport', 'win_past_30_specific_sport',\n",
      "       'win_past_30_specific_sport_percent', 'win_steak_specific_sport',\n",
      "       'bet_risk', 'win_past_30_specific_risk',\n",
      "       'win_past_30_specific_risk_percent'],\n",
      "      dtype='object')\n"
     ]
    }
   ],
   "source": [
    "print(df.shape)\n",
    "print(df.columns)"
   ]
  },
  {
   "cell_type": "markdown",
   "metadata": {},
   "source": [
    "## Exploratory Analysis <a name='eda' />\n",
    "\n",
    "<a href='#top'>[Back to Contents]</a>"
   ]
  },
  {
   "cell_type": "code",
   "execution_count": 24,
   "metadata": {},
   "outputs": [],
   "source": [
    "# code"
   ]
  },
  {
   "cell_type": "code",
   "execution_count": 25,
   "metadata": {},
   "outputs": [],
   "source": [
    "# summary of findings"
   ]
  },
  {
   "cell_type": "markdown",
   "metadata": {},
   "source": [
    "## K-Nearest Neighbors <a name='knn' />\n",
    "\n",
    "<a href='#top'>[Back to Contents]</a>"
   ]
  },
  {
   "cell_type": "code",
   "execution_count": null,
   "metadata": {},
   "outputs": [],
   "source": [
    "# code"
   ]
  },
  {
   "cell_type": "code",
   "execution_count": null,
   "metadata": {},
   "outputs": [],
   "source": [
    "# summary of findings"
   ]
  },
  {
   "cell_type": "markdown",
   "metadata": {},
   "source": [
    "## Naive Bayes <a name='nb' />\n",
    "\n",
    "<a href='#top'>[Back to Contents]</a>"
   ]
  },
  {
   "cell_type": "code",
   "execution_count": 40,
   "metadata": {},
   "outputs": [],
   "source": [
    "from sklearn.naive_bayes import BernoulliNB\n",
    "#from sklearn.ensemble import GradientBoostingClassifier\n",
    "from sklearn.metrics import accuracy_score\n",
    "from sklearn.metrics import confusion_matrix\n",
    "from sklearn.metrics import classification_report"
   ]
  },
  {
   "cell_type": "code",
   "execution_count": 50,
   "metadata": {},
   "outputs": [
    {
     "name": "stdout",
     "output_type": "stream",
     "text": [
      "Here are the modeling features: Index(['League', 'MLBet', 'bet_risk', 'win_past_30_all_sport',\n",
      "       'win_past_30_all_sport_percent', 'win_past_30_specific_risk',\n",
      "       'win_past_30_specific_risk_percent', 'win_past_30_specific_sport',\n",
      "       'win_past_30_specific_sport_percent', 'win_steak_all_sport',\n",
      "       'win_steak_specific_sport'],\n",
      "      dtype='object')\n"
     ]
    }
   ],
   "source": [
    "non_clf_ml_bets = df[(df['Bet']=='MONEY LINE') & (df['League']!='CLF') & (df['MLWinner'] !='')]\n",
    "\n",
    "columns_to_exclude = ['GameKey', 'GameTime', 'Away', 'Home', 'Bet', 'On', 'Juice', 'Type', 'Result', 'MLWinner', 'Handicapper']\n",
    "\n",
    "model_features = non_clf_ml_bets.columns.difference(columns_to_exclude)\n",
    "print('Here are the modeling features:', model_features)\n",
    "\n",
    "target = ['MLWinner']"
   ]
  },
  {
   "cell_type": "code",
   "execution_count": 51,
   "metadata": {},
   "outputs": [
    {
     "name": "stdout",
     "output_type": "stream",
     "text": [
      "(40484, 31)\n",
      "(32383, 20) (8101, 20)\n"
     ]
    }
   ],
   "source": [
    "make_dummies = ['League', 'MLBet', 'bet_risk']\n",
    "\n",
    "binarized_non_clf_ml_bets = pd.get_dummies(non_clf_ml_bets, columns=make_dummies)\n",
    "print(binarized_non_clf_ml_bets.shape)\n",
    "\n",
    "\n",
    "features = binarized_non_clf_ml_bets.columns.difference(columns_to_exclude)\n",
    "\n",
    "# Split into train and test data.\n",
    "train_data = binarized_non_clf_ml_bets[(binarized_non_clf_ml_bets.GameTime < '2017-07-01')][features]\n",
    "train_labels = binarized_non_clf_ml_bets[(binarized_non_clf_ml_bets.GameTime < '2017-07-01')][target]\n",
    "\n",
    "test_data = binarized_non_clf_ml_bets[(binarized_non_clf_ml_bets.GameTime >= '2017-07-01')][features]\n",
    "test_labels = binarized_non_clf_ml_bets[(binarized_non_clf_ml_bets.GameTime >= '2017-07-01')][target]\n",
    "\n",
    "print(train_data.shape, test_data.shape)"
   ]
  },
  {
   "cell_type": "code",
   "execution_count": 57,
   "metadata": {},
   "outputs": [
    {
     "name": "stdout",
     "output_type": "stream",
     "text": [
      "train:  0.528641571195\n",
      "test:  0.532403406987\n",
      "\n",
      "Confusion matrix:\n",
      "[[1243 2548]\n",
      " [1240 3070]]\n",
      "\n",
      "Classification report for classifier BernoulliNB(alpha=0.01, binarize=0.0, class_prior=None, fit_prior=True):\n",
      "             precision    recall  f1-score   support\n",
      "\n",
      "       Away       0.50      0.33      0.40      3791\n",
      "       Home       0.55      0.71      0.62      4310\n",
      "\n",
      "avg / total       0.52      0.53      0.51      8101\n",
      "\n",
      "\n"
     ]
    }
   ],
   "source": [
    "clf=BernoulliNB(alpha=0.01)\n",
    "clf.fit(train_data,train_labels.values.ravel())\n",
    "\n",
    "print('train: ', accuracy_score(clf.predict(train_data),train_labels))\n",
    "print('test: ', accuracy_score(clf.predict(test_data),test_labels))\n",
    "\n",
    "test_predicted_labels = clf.predict(test_data)\n",
    "test_predicted_probs = clf.predict_proba(test_data)\n",
    "print(\"\\nConfusion matrix:\\n%s\" % confusion_matrix(test_labels, test_predicted_labels))\n",
    "print(\"\\nClassification report for classifier %s:\\n%s\\n\"\n",
    "% (clf, classification_report(test_labels, test_predicted_labels))) "
   ]
  },
  {
   "cell_type": "code",
   "execution_count": null,
   "metadata": {},
   "outputs": [],
   "source": [
    "# summary of findings"
   ]
  },
  {
   "cell_type": "markdown",
   "metadata": {},
   "source": [
    "## Logistic Regression <a name='lr' />\n",
    "\n",
    "<a href='#top'>[Back to Contents]</a>"
   ]
  },
  {
   "cell_type": "code",
   "execution_count": 26,
   "metadata": {},
   "outputs": [],
   "source": [
    "# code"
   ]
  },
  {
   "cell_type": "code",
   "execution_count": 27,
   "metadata": {},
   "outputs": [],
   "source": [
    "# summary of findings"
   ]
  },
  {
   "cell_type": "markdown",
   "metadata": {},
   "source": [
    "## Random Forest <a name='rf' />\n",
    "\n",
    "<a href='#top'>[Back to Contents]</a>"
   ]
  },
  {
   "cell_type": "code",
   "execution_count": 60,
   "metadata": {},
   "outputs": [
    {
     "data": {
      "image/png": "[encoded data removed]",
      "text/plain": [
       "<matplotlib.figure.Figure at 0x7f4bd04ea208>"
      ]
     },
     "metadata": {},
     "output_type": "display_data"
    }
   ],
   "source": [
    "from sklearn.ensemble import RandomForestClassifier\n",
    "\n",
    "non_clf_ml_bets = df[(df['Bet']=='MONEY LINE') & (df['League']!='CLF') & (df['MLWinner'] !='')]\n",
    "\n",
    "columns_to_exclude = ['GameKey', 'GameTime', 'Away', 'Home', 'Bet', 'On', 'Juice', 'Type', 'Result', 'MLWinner', 'Handicapper']\n",
    "\n",
    "model_features = non_clf_ml_bets.columns.difference(columns_to_exclude)\n",
    "print('Here are the modeling features:', model_features)\n",
    "\n",
    "target = ['MLWinner']\n",
    "\n",
    "make_dummies = ['League', 'MLBet', 'bet_risk']\n",
    "\n",
    "binarized_non_clf_ml_bets = pd.get_dummies(non_clf_ml_bets, columns=make_dummies)\n",
    "print(binarized_non_clf_ml_bets.shape)\n",
    "\n",
    "\n",
    "features = binarized_non_clf_ml_bets.columns.difference(columns_to_exclude)\n",
    "\n",
    "# Split into train and test data.\n",
    "train_data = binarized_non_clf_ml_bets[(binarized_non_clf_ml_bets.GameTime < '2017-07-01')][features]\n",
    "train_labels = binarized_non_clf_ml_bets[(binarized_non_clf_ml_bets.GameTime < '2017-07-01')][target]\n",
    "\n",
    "test_data = binarized_non_clf_ml_bets[(binarized_non_clf_ml_bets.GameTime >= '2017-07-01')][features]\n",
    "test_labels = binarized_non_clf_ml_bets[(binarized_non_clf_ml_bets.GameTime >= '2017-07-01')][target]\n",
    "\n",
    "print(train_data.shape, test_data.shape)\n",
    "\n",
    "# let's try to find the optimal depth\n",
    "max_depths = np.linspace(1, 32, 32, endpoint=True)\n",
    "train_results = []\n",
    "test_results = []\n",
    "for max_depth in max_depths:\n",
    "    rf = RandomForestClassifier(max_depth=max_depth, n_jobs=-1)\n",
    "    rf.fit(train_data, train_labels.values.ravel())\n",
    "    train_pred = rf.predict(train_data)\n",
    "    train_acc = accuracy_score(rf.predict(train_data),train_labels)\n",
    "    train_results.append(train_acc)\n",
    "    y_pred = rf.predict(test_data)\n",
    "    test_acc = accuracy_score(rf.predict(test_data),test_labels)\n",
    "    test_results.append(test_acc)\n",
    "from matplotlib.legend_handler import HandlerLine2D\n",
    "line1, = plt.plot(max_depths, train_results, 'b', label=\"Train Acc\")\n",
    "line2, = plt.plot(max_depths, test_results, 'r', label=\"Test Acc\")\n",
    "plt.legend(handler_map={line1: HandlerLine2D(numpoints=2)})\n",
    "plt.ylabel('Accuracy')\n",
    "plt.xlabel('Tree depth')\n",
    "plt.show()"
   ]
  },
  {
   "cell_type": "code",
   "execution_count": 61,
   "metadata": {},
   "outputs": [
    {
     "name": "stdout",
     "output_type": "stream",
     "text": [
      "train:  0.550412253343\n",
      "test:  0.554252561412\n",
      "\n",
      "Confusion matrix:\n",
      "[[1575 2216]\n",
      " [1395 2915]]\n",
      "\n",
      "Classification report for classifier RandomForestClassifier(bootstrap=True, class_weight=None, criterion='gini',\n",
      "            max_depth=4, max_features='auto', max_leaf_nodes=None,\n",
      "            min_impurity_decrease=0.0, min_impurity_split=None,\n",
      "            min_samples_leaf=1, min_samples_split=2,\n",
      "            min_weight_fraction_leaf=0.0, n_estimators=30, n_jobs=1,\n",
      "            oob_score=False, random_state=42, verbose=0, warm_start=False):\n",
      "             precision    recall  f1-score   support\n",
      "\n",
      "       Away       0.53      0.42      0.47      3791\n",
      "       Home       0.57      0.68      0.62      4310\n",
      "\n",
      "avg / total       0.55      0.55      0.55      8101\n",
      "\n",
      "\n"
     ]
    }
   ],
   "source": [
    "# Instantiate model with 30 decision trees\n",
    "clf = RandomForestClassifier(n_estimators = 30, random_state = 42, max_depth = 4)\n",
    "\n",
    "# Train the model on training data\n",
    "clf.fit(train_data, train_labels.values.ravel())\n",
    "\n",
    "print('train: ', accuracy_score(clf.predict(train_data),train_labels))\n",
    "print('test: ', accuracy_score(clf.predict(test_data),test_labels))\n",
    "\n",
    "test_predicted_labels = clf.predict(test_data)\n",
    "test_predicted_probs = clf.predict_proba(test_data)\n",
    "print(\"\\nConfusion matrix:\\n%s\" % confusion_matrix(test_labels, test_predicted_labels))\n",
    "print(\"\\nClassification report for classifier %s:\\n%s\\n\"\n",
    "% (clf, classification_report(test_labels, test_predicted_labels))) "
   ]
  },
  {
   "cell_type": "code",
   "execution_count": null,
   "metadata": {},
   "outputs": [],
   "source": [
    "# summary of findings"
   ]
  },
  {
   "cell_type": "markdown",
   "metadata": {},
   "source": [
    "## Gradient Boosting Machine <a name='gbm' />\n",
    "\n",
    "<a href='#top'>[Back to Contents]</a>"
   ]
  },
  {
   "cell_type": "code",
   "execution_count": 68,
   "metadata": {},
   "outputs": [
    {
     "name": "stdout",
     "output_type": "stream",
     "text": [
      "train:  0.559645493006\n",
      "test:  0.548080483891\n",
      "\n",
      "Confusion matrix:\n",
      "[[1581 2210]\n",
      " [1451 2859]]\n",
      "\n",
      "Classification report for classifier GradientBoostingClassifier(criterion='friedman_mse', init=None,\n",
      "              learning_rate=0.1, loss='deviance', max_depth=3,\n",
      "              max_features=None, max_leaf_nodes=None,\n",
      "              min_impurity_decrease=0.0, min_impurity_split=None,\n",
      "              min_samples_leaf=1, min_samples_split=2,\n",
      "              min_weight_fraction_leaf=0.0, n_estimators=100,\n",
      "              presort='auto', random_state=None, subsample=1.0, verbose=0,\n",
      "              warm_start=False):\n",
      "             precision    recall  f1-score   support\n",
      "\n",
      "       Away       0.52      0.42      0.46      3791\n",
      "       Home       0.56      0.66      0.61      4310\n",
      "\n",
      "avg / total       0.54      0.55      0.54      8101\n",
      "\n",
      "\n"
     ]
    }
   ],
   "source": [
    "from sklearn.ensemble import GradientBoostingClassifier\n",
    "clf = GradientBoostingClassifier()\n",
    "clf.fit(train_data, train_labels.values.ravel())\n",
    "\n",
    "print('train: ', accuracy_score(clf.predict(train_data),train_labels))\n",
    "print('test: ', accuracy_score(clf.predict(test_data),test_labels))\n",
    "\n",
    "test_predicted_labels = clf.predict(test_data)\n",
    "test_predicted_probs = clf.predict_proba(test_data)\n",
    "print(\"\\nConfusion matrix:\\n%s\" % confusion_matrix(test_labels, test_predicted_labels))\n",
    "print(\"\\nClassification report for classifier %s:\\n%s\\n\"\n",
    "% (clf, classification_report(test_labels, test_predicted_labels))) "
   ]
  },
  {
   "cell_type": "code",
   "execution_count": 21,
   "metadata": {},
   "outputs": [],
   "source": [
    "# summary of findings"
   ]
  },
  {
   "cell_type": "markdown",
   "metadata": {},
   "source": [
    "## Support Vector Machines <a name='svm' />\n",
    "\n",
    "<a href='#top'>[Back to Contents]</a>"
   ]
  },
  {
   "cell_type": "code",
   "execution_count": null,
   "metadata": {},
   "outputs": [],
   "source": [
    "# code"
   ]
  },
  {
   "cell_type": "code",
   "execution_count": null,
   "metadata": {},
   "outputs": [],
   "source": [
    "# summary of findings"
   ]
  },
  {
   "cell_type": "markdown",
   "metadata": {},
   "source": [
    "## K-means Clustering <a name='kmeans' />\n",
    "\n",
    "<a href='#top'>[Back to Contents]</a>"
   ]
  },
  {
   "cell_type": "code",
   "execution_count": 22,
   "metadata": {},
   "outputs": [],
   "source": [
    "# code"
   ]
  },
  {
   "cell_type": "code",
   "execution_count": 23,
   "metadata": {},
   "outputs": [],
   "source": [
    "# add contents"
   ]
  },
  {
   "cell_type": "markdown",
   "metadata": {},
   "source": [
    "## create more bookmarks as needed ..."
   ]
  },
  {
   "cell_type": "code",
   "execution_count": 28,
   "metadata": {},
   "outputs": [],
   "source": [
    "# code"
   ]
  },
  {
   "cell_type": "code",
   "execution_count": 29,
   "metadata": {},
   "outputs": [],
   "source": [
    "# add contents"
   ]
  }
 ],
 "metadata": {
  "kernelspec": {
   "display_name": "Python 3",
   "language": "python",
   "name": "python3"
  },
  "language_info": {
   "codemirror_mode": {
    "name": "ipython",
    "version": 3
   },
   "file_extension": ".py",
   "mimetype": "text/x-python",
   "name": "python",
   "nbconvert_exporter": "python",
   "pygments_lexer": "ipython3",
   "version": "3.5.2"
  }
 },
 "nbformat": 4,
 "nbformat_minor": 2
}
