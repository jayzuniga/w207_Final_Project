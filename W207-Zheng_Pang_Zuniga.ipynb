{
 "cells": [
  {
   "cell_type": "markdown",
   "metadata": {},
   "source": [
    "# Sports Betting Using Handicapper Data\n",
    "\n",
    "Submitted by:\n",
    "* Ji Zheng\n",
    "* Ye (Kevin) Pang\n",
    "* Jay Zuniga\n",
    "\n",
    "Date: April 18, 2018\n",
    "\n",
    "Web data scrapped from https://www.sportschatexperts.com/index/cappers/"
   ]
  },
  {
   "cell_type": "markdown",
   "metadata": {},
   "source": [
    "## Contents <a name='top' />"
   ]
  },
  {
   "cell_type": "markdown",
   "metadata": {},
   "source": [
    "* <a href='#background'>Background</a>\n",
    "* <a href='#data'>Data Preparation</a>\n",
    "* <a href='#eda'>Exploratory Analysis</a>\n",
    "* <a href='#knn'>k-Nearest Neighbors (kNN)</a>\n",
    "* <a href='#nb'>Naive Bayes (NB)</a>\n",
    "* <a href='#lr'>Logistic Regression (LR)</a>\n",
    "* <a href='#rf'>Random Forest (RF)</a>\n",
    "* <a href='#gbm'>Gradient Boosting Machine (GBM)</a>\n",
    "* <a href='#svm'>Support Vector Machines (SVM)</a>\n",
    "* <a href='#kmeans'>K-means Clustering</a>\n",
    "* <a href='#gmm'>Gaussian Mixture Model (GMM)</a>\n",
    "* <a href='#ensemble'>Multilayer Perceptron</a>\n",
    "* <a href='#results'>Ensemble</a>\n",
    "* <a href='#appendix_a'>Appendix A</a>\n",
    "* <a href='#appendix_b'>Appendix B</a>"
   ]
  },
  {
   "cell_type": "markdown",
   "metadata": {},
   "source": [
    "Time permitting, we wanted to explore classifiers that we covered in the course. These are:\n",
    "\n",
    "**Supervised**:    \n",
    "- k Nearest Neighbors\n",
    "- Naive Bayes\n",
    "- Logistic Regression\n",
    "- Random Forest\n",
    "- Gradient Boosting Machines\n",
    "- Support Vector Machines\n",
    "\n",
    "**Unsupervised**:\n",
    "- K-means\n",
    "- Gaussian Mixture Model\n",
    "\n",
    "**Deep learning**:\n",
    "- Multilayer perceptron"
   ]
  },
  {
   "cell_type": "markdown",
   "metadata": {},
   "source": [
    "## Background <a name='background' />\n",
    "\n",
    "<a href='#top'>[Back to Contents]</a>\n",
    "\n",
    "Sports Betting has become a very big market in the USA, with the legal side estimated at over 4 Billion USD and the total market estimated at 150 Billion USD. As a response to this market, handicappers have started offering their predictions, usually for a fee. Handicappers offer their predictions on specific games.\n",
    "\n",
    "Our team aims to use ML to find out the following:\n",
    "1. Are handicappers' predictions useful?\n",
    "2. Can models be used to generalize a handicapper's betting pattern based on their historical performance data?\n",
    "  * If we can do so, then we may not have to pay for their \"actual\" predictions.\n",
    "3. Based on handicappers' predictions (either actual or simulated), can we predict the outcome of the game for automated betting?"
   ]
  },
  {
   "cell_type": "markdown",
   "metadata": {},
   "source": [
    "## Data Preparation <a name='data' />\n",
    "\n",
    "<a href='#top'>[Back to Contents]</a>\n",
    "\n",
    "We used web scrapping on a popular handicapper website that houses 30 handicappers with a good coverage over a variety of sports. Then we merged the data and added additional derived performance metrics."
   ]
  },
  {
   "cell_type": "markdown",
   "metadata": {},
   "source": [
    "#### Import packages"
   ]
  },
  {
   "cell_type": "code",
   "execution_count": 2,
   "metadata": {},
   "outputs": [],
   "source": [
    "import requests, bs4, hashlib, collections \n",
    "import pandas as pd, numpy as np\n",
    "import matplotlib.pyplot as plt\n",
    "%matplotlib inline"
   ]
  },
  {
   "cell_type": "markdown",
   "metadata": {},
   "source": [
    "#### Web scrapping \n",
    "* No need to run this step since we have saved the datasets in pickled files"
   ]
  },
  {
   "cell_type": "code",
   "execution_count": 3,
   "metadata": {},
   "outputs": [],
   "source": [
    "# # Web scrapping \n",
    "# # Try an example on MIT SIMULATOR, https://www.sportschatexperts.com/index/capperhistory/capper_id/68/\n",
    "# def get_html(url):\n",
    "#     html = requests.get(url)\n",
    "#     try:\n",
    "#         html.raise_for_status()\n",
    "#     except Exception as exc:\n",
    "#         print('There was a problem: %s' % exc)\n",
    "#     html = bs4.BeautifulSoup(html.text, \"html5lib\")\n",
    "#     return html\n",
    "\n",
    "# def get_next_url(html):\n",
    "#     # find the next button\n",
    "#     return html.find('a', string='Next')['href']\n",
    "\n",
    "# def merge_table(url, stop_page=-1, data=[]):\n",
    "#     cur_page = 0\n",
    "#     while True:\n",
    "#         cur_page += 1\n",
    "#         if cur_page % 50 == 0:\n",
    "#             print(\"\\tProcess %s ...\" % url)\n",
    "#         html = get_html(url)\n",
    "#         table = html.find('section', class_='leaderboards diffpadding').div.table\n",
    "#         table_body = table.find('tbody')       \n",
    "#         rows = table_body.find_all('tr', class_='leaderboards_row2 fix-border-bottom ph-first-row')\n",
    "#         for row in rows:\n",
    "#             cols = row.find_all('td')\n",
    "#             # make sure the targeted row for extraction has 10 columns\n",
    "#             if len(cols) == 10:\n",
    "#                 # only want to keep these columns\n",
    "#                 keep_columns = [1, 2, 3, 4, 5, 6, 7, 8]\n",
    "#                 cols = [ele.text.strip() for ele in [cols[i] for i in keep_columns]]\n",
    "#                 data.append([ele for ele in cols if ele]) # Get rid of empty values\n",
    "#         url = get_next_url(html)\n",
    "#         if (url == '#') or cur_page >= stop_page:\n",
    "#             break\n",
    "            \n",
    "# def crawl_history():\n",
    "#     names = [\n",
    "#     'Smart',\n",
    "#     'Bartley',\n",
    "#     'Aronson',\n",
    "#     'Burns',\n",
    "#     'Barone', # not in Ji's original list\n",
    "#     'Bitler',\n",
    "#     'Power',\n",
    "#     'Ross',\n",
    "#     'Diamond',\n",
    "#     'Trapp',\n",
    "#     'Sports',\n",
    "#     'Eddie',\n",
    "#     'Schule',\n",
    "#     'DAmico',\n",
    "#     'Duffy',\n",
    "#     'Thomas',\n",
    "#     'Hunter',\n",
    "#     'Compeau', # not in Ji's original list\n",
    "#     'Syndicate',\n",
    "#     'Lundin',\n",
    "#     'Simulator',\n",
    "#     'Wilson',\n",
    "#     'Monohan',\n",
    "#     'Vinceletti',\n",
    "#     'Rickenbach',\n",
    "#     'Higgs',\n",
    "#     'Nover',\n",
    "#     'Brown',\n",
    "#     'Karpinski',\n",
    "#     'Rogers'\n",
    "#     ]\n",
    "\n",
    "#     links = [\n",
    "#     \"https://www.sportschatexperts.com/index/capperhistory/capper_id/44/\", \n",
    "#     \"https://www.sportschatexperts.com/index/capperhistory/capper_id/33/\",\n",
    "#     \"https://www.sportschatexperts.com/index/capperhistory/capper_id/50/\",\n",
    "#     \"https://www.sportschatexperts.com/index/capperhistory/capper_id/67/\",\n",
    "#     \"https://www.sportschatexperts.com/index/capperhistory/capper_id/69/\",\n",
    "#     \"https://www.sportschatexperts.com/index/capperhistory/capper_id/65/\",\n",
    "#     \"https://www.sportschatexperts.com/index/capperhistory/capper_id/62/\",\n",
    "#     \"https://www.sportschatexperts.com/index/capperhistory/capper_id/66/\",\n",
    "#     \"https://www.sportschatexperts.com/index/capperhistory/capper_id/36/\",\n",
    "#     \"https://www.sportschatexperts.com/index/capperhistory/capper_id/29/\",\n",
    "#     \"https://www.sportschatexperts.com/index/capperhistory/capper_id/45/\", \n",
    "#     \"https://www.sportschatexperts.com/index/capperhistory/capper_id/38/\",\n",
    "#     \"https://www.sportschatexperts.com/index/capperhistory/capper_id/52/\",\n",
    "#     \"https://www.sportschatexperts.com/index/capperhistory/capper_id/35/\",\n",
    "#     \"https://www.sportschatexperts.com/index/capperhistory/capper_id/37/\",\n",
    "#     \"https://www.sportschatexperts.com/index/capperhistory/capper_id/53/\",\n",
    "#     \"https://www.sportschatexperts.com/index/capperhistory/capper_id/41/\",\n",
    "#     \"https://www.sportschatexperts.com/index/capperhistory/capper_id/56/\",\n",
    "#     \"https://www.sportschatexperts.com/index/capperhistory/capper_id/58/\",\n",
    "#     \"https://www.sportschatexperts.com/index/capperhistory/capper_id/61/\",\n",
    "#     \"https://www.sportschatexperts.com/index/capperhistory/capper_id/68/\", \n",
    "#     \"https://www.sportschatexperts.com/index/capperhistory/capper_id/30/\",\n",
    "#     \"https://www.sportschatexperts.com/index/capperhistory/capper_id/43/\",\n",
    "#     \"https://www.sportschatexperts.com/index/capperhistory/capper_id/46/\",\n",
    "#     \"https://www.sportschatexperts.com/index/capperhistory/capper_id/57/\",\n",
    "#     \"https://www.sportschatexperts.com/index/capperhistory/capper_id/40/\",\n",
    "#     \"https://www.sportschatexperts.com/index/capperhistory/capper_id/51/\",\n",
    "#     \"https://www.sportschatexperts.com/index/capperhistory/capper_id/42/\",\n",
    "#     \"https://www.sportschatexperts.com/index/capperhistory/capper_id/60/\",\n",
    "#     \"https://www.sportschatexperts.com/index/capperhistory/capper_id/55/\",\n",
    "#     ]\n",
    "    \n",
    "#     handicappers_dict = collections.OrderedDict(zip(names, links))\n",
    "    \n",
    "#     for k, v in handicappers_dict.items():\n",
    "#         data=[]\n",
    "#         merge_table(v, 9999, data)\n",
    "#         #print(data)\n",
    "#         df = pd.DataFrame(data, columns=['League', 'Game', 'Date', 'Play', 'Line Selected', 'Type', 'Score', 'Result'])\n",
    "#         filename = 'HC' + str(list(handicappers_dict.keys()).index(k)+1)\n",
    "        \n",
    "#         # produce a hashed gamekey for the game\n",
    "#         df[\"GameKey\"] = df[['League', 'Game', 'Date']].apply(lambda x: hashlib.md5(''.join(x).encode('utf-8')).hexdigest(), axis=1)\n",
    "\n",
    "#         # home team is always on the right?\n",
    "#         df[\"Home\"] = df[\"Game\"].apply(lambda x: x.split('vs.')[1].strip().upper())\n",
    "\n",
    "#         # away team is always on the left?\n",
    "#         df[\"Away\"] = df[\"Game\"].apply(lambda x: x.split('vs.')[0].strip().upper())\n",
    "\n",
    "#         # strip out type of bet\n",
    "#         df[\"Bet\"] = df[\"Line Selected\"].apply(lambda x: x.split(':')[0].strip().upper())\n",
    "\n",
    "#         # strip out which team the bet is on\n",
    "#         df[\"On\"] = df[\"Play\"].apply(lambda x: x.split('Play on ')[1].strip().upper())\n",
    "\n",
    "#         # convert game time to datetime format \n",
    "#         df[\"GameTime\"] = df[\"Date\"].apply(lambda x: pd.to_datetime(x))\n",
    "\n",
    "#         # strip out juice\n",
    "#         df[\"Juice\"] = df[\"Line Selected\"].apply(lambda x: x.split(': ')[1].strip() if (\"Money Line\" in x) else (x.split(': ')[1].split('/')[0].strip() if (\"Total\" in x) else x.split(': ')[1].split('/')[1].strip()))\n",
    "\n",
    "#         # MLWinner: either home or away team for ML bets\n",
    "#         conditions = [\n",
    "#         (df['On'] == df['Home']) & (df['Bet'] == 'MONEY LINE') & (df['Result'] == 'Win'), \n",
    "#         (df['On'] == df['Away']) & (df['Bet'] == 'MONEY LINE') & (df['Result'] == 'Win'), \n",
    "#         (df['On'] == df['Home']) & (df['Bet'] == 'MONEY LINE') & (df['Result'] == 'Loss'), \n",
    "#         (df['On'] == df['Away']) & (df['Bet'] == 'MONEY LINE') & (df['Result'] == 'Loss')\n",
    "#         ]\n",
    "#         choices = ['Home', 'Away', 'Away', 'Home']\n",
    "#         df['MLWinner'] = np.select(conditions, choices, default='')\n",
    "\n",
    "#         # MLBet: either home or away team for ML bets\n",
    "#         conditions = [\n",
    "#         (df['On'] == df['Home']) & (df['Bet'] == 'MONEY LINE'), \n",
    "#         (df['On'] == df['Away']) & (df['Bet'] == 'MONEY LINE')\n",
    "#         ]\n",
    "#         choices = ['Home', 'Away']\n",
    "#         df['MLBet'] = np.select(conditions, choices, default='')\n",
    "        \n",
    "#         columns_to_keep = ['League', 'GameKey', 'GameTime', \n",
    "#                    'Home', 'Away',\n",
    "#                    'Bet', 'On',\n",
    "#                    'Juice', 'Type', 'Result',\n",
    "#                    'MLBet', 'MLWinner']\n",
    "#         #print(df[columns_to_keep].head())\n",
    "#         df[columns_to_keep].to_pickle(k + '.gz', compression=\"gzip\")       \n",
    "\n",
    "# crawl_history()"
   ]
  },
  {
   "cell_type": "markdown",
   "metadata": {},
   "source": [
    "#### Concatenate and load all 30 handicappers' betting histories into one dataframe"
   ]
  },
  {
   "cell_type": "code",
   "execution_count": 4,
   "metadata": {},
   "outputs": [],
   "source": [
    "# merge hadicappers' history bets into one dataframe\n",
    "names = [\n",
    "    'Smart',\n",
    "    'Bartley',\n",
    "    'Aronson',\n",
    "    'Burns',\n",
    "    'Barone', # not in Ji's original list\n",
    "    'Bitler',\n",
    "    'Power',\n",
    "    'Ross',\n",
    "    'Diamond',\n",
    "    'Trapp',\n",
    "    'Sports',\n",
    "    'Eddie',\n",
    "    'Schule',\n",
    "    'DAmico',\n",
    "    'Duffy',\n",
    "    'Thomas',\n",
    "    'Hunter',\n",
    "    'Compeau', # not in Ji's original list\n",
    "    'Syndicate',\n",
    "    'Lundin',\n",
    "    'Simulator',\n",
    "    'Wilson',\n",
    "    'Monohan',\n",
    "    'Vinceletti',\n",
    "    'Rickenbach',\n",
    "    'Higgs',\n",
    "    'Nover',\n",
    "    'Brown',\n",
    "    'Karpinski',\n",
    "    'Rogers'\n",
    "    ]\n",
    "\n",
    "df = pd.DataFrame()\n",
    "for i in range(1,31): \n",
    "    newdf = pd.read_pickle('HC' + str(i) + '.gz', compression='gzip')\n",
    "    \n",
    "    # if you want the last name of the HC, switch to use names array\n",
    "    #newdf['Handicapper'] = names[i-1]\n",
    "    newdf['Handicapper'] = 'HC'+str(i)\n",
    "    df = df.append(newdf, ignore_index=True)"
   ]
  },
  {
   "cell_type": "markdown",
   "metadata": {},
   "source": [
    "#### The following functions derive additonal handicapper attributes from the historical bets\n",
    "\n",
    " * number of wins in the past 30 games\n",
    " * percentage of wins in the past 30 games; for the 1st game, assume win % is 50%\n",
    " * active winning & losing streak counts \n",
    " * number of wins in the past 30 games for specific sport(league)\n",
    " * percentage of wins in the past 30 games for specific sport(league); for the 1st game, assume win % is 50%\n",
    " * active winning & losing streak counts for specific sport(league)\n",
    " * risk appetite from betting 'juice' (odds)\n",
    "   * if juice more than 120, then betting on 'underdog'\n",
    "   * if juice less than -140, then betting on 'favorite'\n",
    "   * consider everything else as betting on 'normal'\n",
    " * number of wins in the past 30 games for specific risk appetite\n",
    " * percentage of wins in the past 30 games for specific risk appetite"
   ]
  },
  {
   "cell_type": "code",
   "execution_count": 5,
   "metadata": {},
   "outputs": [],
   "source": [
    "# add column for # of wins in the past 30 games\n",
    "# add column for % of wins in the past 30 games\n",
    "# if game is 0, assume win % is 50%\n",
    "# add column for winning steak\n",
    "def win_past_30_all_sport(df):\n",
    "    df=df.sort_values(['Handicapper','GameTime'], ascending=[1,1])\n",
    "    df=df.reset_index(drop=True)\n",
    "    win_past_30=[]\n",
    "    win_past_30_all_sport_percent=[]\n",
    "    win_tracker=[]\n",
    "    win_steak=[]\n",
    "    win=0\n",
    "    lose=0\n",
    "    win_steak=[]\n",
    "    \n",
    "    pointer=0\n",
    "    last=df.League.count()\n",
    "    HC=df['Handicapper'][0]\n",
    "    while pointer < last:\n",
    "        if df['Handicapper'][pointer]!=HC:\n",
    "            HC=df['Handicapper'][pointer]\n",
    "            win_past_30.append(0)\n",
    "            win_past_30_all_sport_percent.append(0.5)\n",
    "            win_steak.append(0)\n",
    "        elif pointer == 0:\n",
    "            win_past_30.append(0)\n",
    "            win_past_30_all_sport_percent.append(0.5)\n",
    "            win_steak.append(0)\n",
    "        else: \n",
    "            win_past_30.append(sum(win_tracker))\n",
    "            mean = sum(win_tracker)/len(win_tracker)\n",
    "            win_past_30_all_sport_percent.append(mean)\n",
    "            if (win>lose):\n",
    "                win_steak.append(win)\n",
    "            else:\n",
    "                win_steak.append(-lose)\n",
    "\n",
    "        \n",
    "        if df['Result'][pointer]=='Win':\n",
    "            win_tracker.insert(0,1)\n",
    "            win+=1\n",
    "            lose=0\n",
    "        elif df['Result'][pointer]=='Push':\n",
    "            win_tracker.insert(0,1)\n",
    "        else:\n",
    "            win_tracker.insert(0,0)\n",
    "            win=0\n",
    "            lose+=1\n",
    "            \n",
    "            \n",
    "        \n",
    "        if len(win_tracker)>30:\n",
    "            win_tracker.pop()\n",
    "        pointer+=1\n",
    "\n",
    "    df['win_past_30_all_sport']=win_past_30\n",
    "    df['win_past_30_all_sport_percent']=win_past_30_all_sport_percent\n",
    "    df['win_steak_all_sport']=win_steak\n",
    "    return df\n",
    "    \n",
    "# add column for # of wins in the past 30 games for specific sport(league)\n",
    "# add column for % of wins in the past 30 games for specific sport(league)\n",
    "# if game is 0, assume win % is 50%\n",
    "# add column for winning steak for specific sport(league) \n",
    "def win_past_30_specific_sport(df):\n",
    "    df=df.sort_values(['Handicapper','League','GameTime'], ascending=[1,1,1])\n",
    "    df=df.reset_index(drop=True)\n",
    "    win_past_30=[]\n",
    "    win_past_30_specific_sport_percent=[]\n",
    "    win_tracker=[]\n",
    "    pointer=0\n",
    "    win_steak=[]\n",
    "    win=0\n",
    "    lose=0\n",
    "    last=df.League.count()\n",
    "    HC=df['Handicapper'][0]\n",
    "    League=df['League'][0]\n",
    "    while pointer < last:\n",
    "        if (df['Handicapper'][pointer]!=HC) or (df['League'][pointer]!=League):\n",
    "            HC=df['Handicapper'][pointer]\n",
    "            League=df['League'][pointer]\n",
    "            win_tracker=[]\n",
    "            win_past_30.append(0)\n",
    "            win_past_30_specific_sport_percent.append(0.5)\n",
    "            win_steak.append(0)\n",
    "        elif pointer == 0:\n",
    "            win_past_30.append(0)\n",
    "            win_past_30_specific_sport_percent.append(0.5)\n",
    "            win_steak.append(0)\n",
    "        else: \n",
    "            win_past_30.append(sum(win_tracker))\n",
    "            mean = sum(win_tracker)/len(win_tracker)\n",
    "            win_past_30_specific_sport_percent.append(mean)\n",
    "            if (win>lose):\n",
    "                win_steak.append(win)\n",
    "            else:\n",
    "                win_steak.append(-lose)\n",
    "            \n",
    "            \n",
    "        if df['Result'][pointer]=='Win':\n",
    "            win_tracker.insert(0,1)\n",
    "            win+=1\n",
    "            lose=0\n",
    "        elif df['Result'][pointer]=='Push':\n",
    "            win_tracker.insert(0,1)\n",
    "        else:\n",
    "            win_tracker.insert(0,0)\n",
    "            win=0\n",
    "            lose+=1\n",
    "            \n",
    "            \n",
    "        if len(win_tracker)>30:\n",
    "            win_tracker.pop()\n",
    "\n",
    "        pointer+=1\n",
    "    df['win_past_30_specific_sport']=win_past_30\n",
    "    df['win_past_30_specific_sport_percent']=win_past_30_specific_sport_percent\n",
    "    df['win_steak_specific_sport']=win_steak\n",
    "    return df\n",
    "\n",
    "\n",
    "## convert juice to risk level\n",
    "## if juice more than 120, then we are betting on underdog\n",
    "## if juice less than -140, then we are betting on favorite\n",
    "## I consider everything else is 'normal'\n",
    "def bet_risk(df):\n",
    "    pointer=0\n",
    "    bet_risk=[]\n",
    "    last=df.League.count()\n",
    "    while pointer < last:\n",
    "        if int(df['Juice'][pointer])>120:\n",
    "            bet_risk.append('underdog')\n",
    "        elif int(df['Juice'][pointer])<-140:\n",
    "            bet_risk.append('favorite')\n",
    "        else:\n",
    "            bet_risk.append('normal')\n",
    "        pointer+=1\n",
    "    df['bet_risk']=bet_risk\n",
    "    return df\n",
    "\n",
    "# add column for # of wins in the past 30 games for specific risk\n",
    "# add column for % of wins in the past 30 games for specific risk\n",
    "# if game is 0, assume win % is 50%\n",
    "# add column for winning steak for specific risk\n",
    "def win_past_30_specific_risk(df):\n",
    "    df=df.sort_values(['Handicapper','bet_risk','GameTime'], ascending=[1,1,1])\n",
    "    df=df.reset_index(drop=True)\n",
    "    win_past_30=[]\n",
    "    win_past_30_specific_risk_percent=[]\n",
    "    win_tracker=[]\n",
    "    pointer=0\n",
    "    last=df.League.count()\n",
    "    HC=df['Handicapper'][0]\n",
    "    Risk=df['bet_risk'][0]\n",
    "    while pointer < last:\n",
    "        if (df['Handicapper'][pointer]!=HC) or (df['bet_risk'][pointer]!=Risk):\n",
    "            HC=df['Handicapper'][pointer]\n",
    "            Risk=df['bet_risk'][pointer]\n",
    "            win_tracker=[]\n",
    "            win_past_30.append(0)\n",
    "            win_past_30_specific_risk_percent.append(0.5)\n",
    "        elif pointer == 0:\n",
    "            win_past_30.append(0)\n",
    "            win_past_30_specific_risk_percent.append(0.5)\n",
    "        else: \n",
    "            win_past_30.append(sum(win_tracker))\n",
    "            mean = sum(win_tracker)/len(win_tracker)\n",
    "            win_past_30_specific_risk_percent.append(mean)\n",
    "        if df['Result'][pointer]=='Win':\n",
    "            win_tracker.insert(0,1)\n",
    "        else:\n",
    "            win_tracker.insert(0,0)\n",
    "        if len(win_tracker)>30:\n",
    "            win_tracker.pop()\n",
    "\n",
    "        pointer+=1\n",
    "    df['win_past_30_specific_risk']=win_past_30\n",
    "    df['win_past_30_specific_risk_percent']=win_past_30_specific_risk_percent\n",
    "    return df\n",
    "\n",
    "df = win_past_30_all_sport(df)\n",
    "df = win_past_30_specific_sport(df)\n",
    "df = bet_risk(df)\n",
    "df = win_past_30_specific_risk(df)"
   ]
  },
  {
   "cell_type": "markdown",
   "metadata": {},
   "source": [
    "#### Here's our modeling (unpivoted) dataset"
   ]
  },
  {
   "cell_type": "code",
   "execution_count": 6,
   "metadata": {},
   "outputs": [
    {
     "name": "stdout",
     "output_type": "stream",
     "text": [
      "(134880, 22)\n",
      "Index(['League', 'GameKey', 'GameTime', 'Home', 'Away', 'Bet', 'On', 'Juice',\n",
      "       'Type', 'Result', 'MLBet', 'MLWinner', 'Handicapper',\n",
      "       'win_past_30_all_sport', 'win_past_30_all_sport_percent',\n",
      "       'win_steak_all_sport', 'win_past_30_specific_sport',\n",
      "       'win_past_30_specific_sport_percent', 'win_steak_specific_sport',\n",
      "       'bet_risk', 'win_past_30_specific_risk',\n",
      "       'win_past_30_specific_risk_percent'],\n",
      "      dtype='object')\n"
     ]
    }
   ],
   "source": [
    "print(df.shape)\n",
    "print(df.columns)"
   ]
  },
  {
   "cell_type": "markdown",
   "metadata": {},
   "source": [
    "#### Here's our pivoted modeling dataset\n",
    "\n",
    "* we pivoted the dataset so that all 30 handicapper are turned into additional columns\n",
    "* we excluded CFL league games because only 2017 data exists\n",
    "* we filtered out ML games since they have the least amount of betting variations compare to \"spread\" and \"total\" types of betting\n",
    "* we took the first bet if the handicapper betted more than once on a game, this happened only 174 times.\n"
   ]
  },
  {
   "cell_type": "code",
   "execution_count": 29,
   "metadata": {},
   "outputs": [
    {
     "name": "stdout",
     "output_type": "stream",
     "text": [
      "174\n"
     ]
    }
   ],
   "source": [
    "# find ML games where handicapper betted more than once\n",
    "bet2ormore = df[df['Bet']=='MONEY LINE'].groupby(['GameKey', 'Handicapper'])['MLBet'].size().ge(2).to_frame()\n",
    "print(len(bet2ormore[bet2ormore['MLBet']==True]))"
   ]
  },
  {
   "cell_type": "code",
   "execution_count": 40,
   "metadata": {},
   "outputs": [
    {
     "name": "stdout",
     "output_type": "stream",
     "text": [
      "Let MLBet be A0\n",
      "Let win_past_30_all_sport be A1\n",
      "Let win_past_30_all_sport_percent be A2\n",
      "Let win_past_30_specific_sport be A3\n",
      "Let win_past_30_specific_sport_percent be A4\n",
      "Let win_steak_all_sport be A5\n",
      "Let win_steak_specific_sport be A6\n",
      "Let bet_risk be A7\n",
      "Let win_past_30_specific_risk be A8\n",
      "Let win_past_30_specific_risk_percent be A9\n"
     ]
    }
   ],
   "source": [
    "p_keys = ['MLBet',\n",
    "            'win_past_30_all_sport', \n",
    "            'win_past_30_all_sport_percent',\n",
    "            'win_past_30_specific_sport', \n",
    "            'win_past_30_specific_sport_percent', \n",
    "            'win_steak_all_sport',\n",
    "            'win_steak_specific_sport',\n",
    "            'bet_risk', \n",
    "            'win_past_30_specific_risk', \n",
    "            'win_past_30_specific_risk_percent']\n",
    "\n",
    "p_values = ['A0',\n",
    "            'A1', \n",
    "            'A2',\n",
    "            'A3', \n",
    "            'A4', \n",
    "            'A5',\n",
    "            'A6',\n",
    "            'A7', \n",
    "            'A8', \n",
    "            'A9']\n",
    "\n",
    "pivots = collections.OrderedDict(zip(p_keys, p_values))\n",
    "\n",
    "for k, v in pivots.items():\n",
    "    print('Let {} be {}'.format(k,v))"
   ]
  },
  {
   "cell_type": "code",
   "execution_count": 71,
   "metadata": {},
   "outputs": [
    {
     "name": "stdout",
     "output_type": "stream",
     "text": [
      "(15576, 307)\n"
     ]
    }
   ],
   "source": [
    "ml_game_info = df[(df['Bet']=='MONEY LINE') & (df['League']!='CFL') & (df['MLWinner'] !='')].pivot_table(values=['GameTime', 'League','Home', 'Away', 'MLWinner'], index=['GameKey'], aggfunc='first')\n",
    "\n",
    "ml_juice = df[(df['Bet']=='MONEY LINE') & (df['League']!='CFL') & (df['MLWinner'] !='')].pivot_table(values=['Juice'], columns='MLBet', index=['GameKey'], aggfunc='max')\n",
    "\n",
    "ml_juice.columns = ml_juice.columns.droplevel(0)\n",
    "ml_juice.columns.name = 'Juice'\n",
    "ml_juice.columns = ['Juice_Away', 'Juice_Home']\n",
    "\n",
    "pivoted_ml_bets = ml_game_info.join(ml_juice)\n",
    "\n",
    "for k, v in pivots.items():\n",
    "    pv = df[(df['Bet']=='MONEY LINE') & (df['League']!='CFL') & (df['MLWinner'] !='')].pivot_table(values=[k], \n",
    "                                                          columns='Handicapper', \n",
    "                                                          index=['GameKey'], aggfunc='first')\n",
    "    pv.columns = pv.columns.droplevel(0)\n",
    "    pv = pv.add_prefix(v+'_')\n",
    "    pivoted_ml_bets = pivoted_ml_bets.join(pv)\n",
    "\n",
    "no_bets = ['A0_HC1', 'A0_HC10', 'A0_HC11', 'A0_HC12', 'A0_HC13', 'A0_HC14', 'A0_HC15', 'A0_HC16', 'A0_HC17', 'A0_HC18', 'A0_HC19', 'A0_HC2', 'A0_HC20', 'A0_HC21', 'A0_HC22', 'A0_HC23', 'A0_HC24', 'A0_HC25', 'A0_HC26', 'A0_HC27', 'A0_HC28', 'A0_HC29', 'A0_HC3', 'A0_HC30', 'A0_HC4', 'A0_HC5', 'A0_HC6', 'A0_HC7', 'A0_HC8', 'A0_HC9']\n",
    "\n",
    "for each in no_bets:\n",
    "    pivoted_ml_bets[each].fillna('NoBet', inplace=True)\n",
    "    \n",
    "pivoted_ml_bets.fillna(0, inplace=True)\n",
    "    \n",
    "print(pivoted_ml_bets.shape)\n",
    "#print(list(pivoted_ml_bets.columns))"
   ]
  },
  {
   "cell_type": "markdown",
   "metadata": {},
   "source": [
    "## Exploratory Analysis <a name='eda' />\n",
    "\n",
    "<a href='#top'>[Back to Contents]</a>\n",
    "\n",
    "We first explored the collected historical data to get an idea what coverage the 30 handicappers provided, i.e. 1) on which sports and 2) what type of predictions "
   ]
  },
  {
   "cell_type": "code",
   "execution_count": 24,
   "metadata": {},
   "outputs": [],
   "source": [
    "# code"
   ]
  },
  {
   "cell_type": "code",
   "execution_count": 25,
   "metadata": {},
   "outputs": [],
   "source": [
    "# summary of findings"
   ]
  },
  {
   "cell_type": "markdown",
   "metadata": {},
   "source": [
    "## K-Nearest Neighbors <a name='knn' />\n",
    "\n",
    "<a href='#top'>[Back to Contents]</a>\n",
    "\n",
    "We build a KNN model on handicapper's ML picks and compare to the actual game winners. \n",
    "\n",
    "Summary Findings:\n",
    "1. On unpivoted data, our k=2 got good f1 score on away team winning the games\n",
    "2. On pivoted data, KNN runs very slowly because of the increase in dimensions. Results are not impressive..."
   ]
  },
  {
   "cell_type": "markdown",
   "metadata": {},
   "source": [
    "#### On unpivoted data"
   ]
  },
  {
   "cell_type": "code",
   "execution_count": 46,
   "metadata": {},
   "outputs": [
    {
     "name": "stdout",
     "output_type": "stream",
     "text": [
      "Here are the columns we considered adding to the model: ['League', 'MLBet', 'bet_risk'] \n",
      "\n",
      "Here are the features the model will use:\n",
      " ['League_MLB', 'League_NBA', 'League_NCAAB', 'League_NCAAF', 'League_NFL', 'League_NHL', 'MLBet_Away', 'MLBet_Home', 'bet_risk_favorite', 'bet_risk_normal', 'bet_risk_underdog'] \n",
      "\n",
      "Train data: (32383, 11)\n",
      "Test data: (8083, 11)\n",
      "\n",
      "For K =  1 \n",
      "\n",
      "train:  0.506191520242\n",
      "test:  0.510701472226\n",
      "\n",
      "Confusion matrix:\n",
      "[[2654 1126]\n",
      " [2829 1474]]\n",
      "\n",
      "Classification report for classifier KNeighborsClassifier(algorithm='auto', leaf_size=30, metric='minkowski',\n",
      "           metric_params=None, n_jobs=1, n_neighbors=1, p=2,\n",
      "           weights='uniform'):\n",
      "             precision    recall  f1-score   support\n",
      "\n",
      "       Away       0.48      0.70      0.57      3780\n",
      "       Home       0.57      0.34      0.43      4303\n",
      "\n",
      "avg / total       0.53      0.51      0.50      8083\n",
      "\n",
      "\n",
      "\n",
      "For K =  2 \n",
      "\n",
      "train:  0.513016088689\n",
      "test:  0.511072621551\n",
      "\n",
      "Confusion matrix:\n",
      "[[3173  607]\n",
      " [3345  958]]\n",
      "\n",
      "Classification report for classifier KNeighborsClassifier(algorithm='auto', leaf_size=30, metric='minkowski',\n",
      "           metric_params=None, n_jobs=1, n_neighbors=2, p=2,\n",
      "           weights='uniform'):\n",
      "             precision    recall  f1-score   support\n",
      "\n",
      "       Away       0.49      0.84      0.62      3780\n",
      "       Home       0.61      0.22      0.33      4303\n",
      "\n",
      "avg / total       0.55      0.51      0.46      8083\n",
      "\n",
      "\n",
      "\n",
      "For K =  3 \n",
      "\n",
      "train:  0.52209492635\n",
      "test:  0.535073611283\n",
      "\n",
      "Confusion matrix:\n",
      "[[2499 1281]\n",
      " [2477 1826]]\n",
      "\n",
      "Classification report for classifier KNeighborsClassifier(algorithm='auto', leaf_size=30, metric='minkowski',\n",
      "           metric_params=None, n_jobs=1, n_neighbors=3, p=2,\n",
      "           weights='uniform'):\n",
      "             precision    recall  f1-score   support\n",
      "\n",
      "       Away       0.50      0.66      0.57      3780\n",
      "       Home       0.59      0.42      0.49      4303\n",
      "\n",
      "avg / total       0.55      0.54      0.53      8083\n",
      "\n",
      "\n"
     ]
    }
   ],
   "source": [
    "from sklearn.metrics import accuracy_score\n",
    "from sklearn.metrics import confusion_matrix\n",
    "from sklearn.metrics import classification_report\n",
    "from sklearn.neighbors import KNeighborsClassifier\n",
    "\n",
    "non_clf_ml_bets = df[(df['Bet']=='MONEY LINE') & (df['League']!='CFL') & (df['MLWinner'] !='')]\n",
    "\n",
    "columns_to_exclude = ['GameKey', 'GameTime', 'Bet', 'On', \n",
    "                      'Handicapper', 'Away', 'Home',\n",
    "                      'Juice', 'Type', 'Result', 'MLWinner', \n",
    "                      'win_past_30_all_sport', 'win_past_30_all_sport_percent', \n",
    "                      'win_past_30_specific_risk', 'win_past_30_specific_risk_percent', \n",
    "                      'win_past_30_specific_sport', 'win_past_30_specific_sport_percent', \n",
    "                      'win_steak_all_sport', 'win_steak_specific_sport']\n",
    "\n",
    "columns_to_use = non_clf_ml_bets.columns.difference(columns_to_exclude)\n",
    "print('Here are the columns we considered adding to the model:', list(columns_to_use), '\\n')\n",
    "\n",
    "target = ['MLWinner']\n",
    "\n",
    "make_dummies = ['League', 'MLBet', 'bet_risk']\n",
    "\n",
    "binarized_non_clf_ml_bets = pd.get_dummies(non_clf_ml_bets, columns=make_dummies)\n",
    "\n",
    "features = binarized_non_clf_ml_bets.columns.difference(columns_to_exclude)\n",
    "print('Here are the features the model will use:\\n', list(features), '\\n')\n",
    "\n",
    "# Split into train and test data.\n",
    "train_data = binarized_non_clf_ml_bets[(binarized_non_clf_ml_bets.GameTime < '2017-07-01')][features]\n",
    "train_labels = non_clf_ml_bets[(non_clf_ml_bets.GameTime < '2017-07-01')][target]\n",
    "\n",
    "test_data = binarized_non_clf_ml_bets[(binarized_non_clf_ml_bets.GameTime >= '2017-07-01')][features]\n",
    "test_labels = non_clf_ml_bets[(non_clf_ml_bets.GameTime >= '2017-07-01')][target]\n",
    "\n",
    "print('Train data:', train_data.shape)\n",
    "print('Test data:', test_data.shape)\n",
    "\n",
    "for k in range(1,4):\n",
    "    print('\\nFor K = ', k, '\\n')    \n",
    "    clf = KNeighborsClassifier(n_neighbors=k)\n",
    "    clf.fit(train_data, train_labels.values.ravel())\n",
    "\n",
    "    print('train: ', accuracy_score(clf.predict(train_data),train_labels))\n",
    "    print('test: ', accuracy_score(clf.predict(test_data),test_labels))\n",
    "\n",
    "    test_predicted_labels = clf.predict(test_data)\n",
    "    test_predicted_probs = clf.predict_proba(test_data)\n",
    "    print(\"\\nConfusion matrix:\\n%s\" % confusion_matrix(test_labels, test_predicted_labels))\n",
    "    print(\"\\nClassification report for classifier %s:\\n%s\\n\"\n",
    "    % (clf, classification_report(test_labels, test_predicted_labels))) "
   ]
  },
  {
   "cell_type": "markdown",
   "metadata": {},
   "source": [
    "#### On pivoted data"
   ]
  },
  {
   "cell_type": "code",
   "execution_count": 45,
   "metadata": {},
   "outputs": [
    {
     "name": "stdout",
     "output_type": "stream",
     "text": [
      "['Away', 'GameTime', 'Home', 'League', 'MLWinner', 'Juice_Away', 'Juice_Home', 'A0_HC1', 'A0_HC10', 'A0_HC11', 'A0_HC12', 'A0_HC13', 'A0_HC14', 'A0_HC15', 'A0_HC16', 'A0_HC17', 'A0_HC18', 'A0_HC19', 'A0_HC2', 'A0_HC20', 'A0_HC21', 'A0_HC22', 'A0_HC23', 'A0_HC24', 'A0_HC25', 'A0_HC26', 'A0_HC27', 'A0_HC28', 'A0_HC29', 'A0_HC3', 'A0_HC30', 'A0_HC4', 'A0_HC5', 'A0_HC6', 'A0_HC7', 'A0_HC8', 'A0_HC9', 'A1_HC1', 'A1_HC10', 'A1_HC11', 'A1_HC12', 'A1_HC13', 'A1_HC14', 'A1_HC15', 'A1_HC16', 'A1_HC17', 'A1_HC18', 'A1_HC19', 'A1_HC2', 'A1_HC20', 'A1_HC21', 'A1_HC22', 'A1_HC23', 'A1_HC24', 'A1_HC25', 'A1_HC26', 'A1_HC27', 'A1_HC28', 'A1_HC29', 'A1_HC3', 'A1_HC30', 'A1_HC4', 'A1_HC5', 'A1_HC6', 'A1_HC7', 'A1_HC8', 'A1_HC9', 'A2_HC1', 'A2_HC10', 'A2_HC11', 'A2_HC12', 'A2_HC13', 'A2_HC14', 'A2_HC15', 'A2_HC16', 'A2_HC17', 'A2_HC18', 'A2_HC19', 'A2_HC2', 'A2_HC20', 'A2_HC21', 'A2_HC22', 'A2_HC23', 'A2_HC24', 'A2_HC25', 'A2_HC26', 'A2_HC27', 'A2_HC28', 'A2_HC29', 'A2_HC3', 'A2_HC30', 'A2_HC4', 'A2_HC5', 'A2_HC6', 'A2_HC7', 'A2_HC8', 'A2_HC9', 'A3_HC1', 'A3_HC10', 'A3_HC11', 'A3_HC12', 'A3_HC13', 'A3_HC14', 'A3_HC15', 'A3_HC16', 'A3_HC17', 'A3_HC18', 'A3_HC19', 'A3_HC2', 'A3_HC20', 'A3_HC21', 'A3_HC22', 'A3_HC23', 'A3_HC24', 'A3_HC25', 'A3_HC26', 'A3_HC27', 'A3_HC28', 'A3_HC29', 'A3_HC3', 'A3_HC30', 'A3_HC4', 'A3_HC5', 'A3_HC6', 'A3_HC7', 'A3_HC8', 'A3_HC9', 'A4_HC1', 'A4_HC10', 'A4_HC11', 'A4_HC12', 'A4_HC13', 'A4_HC14', 'A4_HC15', 'A4_HC16', 'A4_HC17', 'A4_HC18', 'A4_HC19', 'A4_HC2', 'A4_HC20', 'A4_HC21', 'A4_HC22', 'A4_HC23', 'A4_HC24', 'A4_HC25', 'A4_HC26', 'A4_HC27', 'A4_HC28', 'A4_HC29', 'A4_HC3', 'A4_HC30', 'A4_HC4', 'A4_HC5', 'A4_HC6', 'A4_HC7', 'A4_HC8', 'A4_HC9', 'A5_HC1', 'A5_HC10', 'A5_HC11', 'A5_HC12', 'A5_HC13', 'A5_HC14', 'A5_HC15', 'A5_HC16', 'A5_HC17', 'A5_HC18', 'A5_HC19', 'A5_HC2', 'A5_HC20', 'A5_HC21', 'A5_HC22', 'A5_HC23', 'A5_HC24', 'A5_HC25', 'A5_HC26', 'A5_HC27', 'A5_HC28', 'A5_HC29', 'A5_HC3', 'A5_HC30', 'A5_HC4', 'A5_HC5', 'A5_HC6', 'A5_HC7', 'A5_HC8', 'A5_HC9', 'A6_HC1', 'A6_HC10', 'A6_HC11', 'A6_HC12', 'A6_HC13', 'A6_HC14', 'A6_HC15', 'A6_HC16', 'A6_HC17', 'A6_HC18', 'A6_HC19', 'A6_HC2', 'A6_HC20', 'A6_HC21', 'A6_HC22', 'A6_HC23', 'A6_HC24', 'A6_HC25', 'A6_HC26', 'A6_HC27', 'A6_HC28', 'A6_HC29', 'A6_HC3', 'A6_HC30', 'A6_HC4', 'A6_HC5', 'A6_HC6', 'A6_HC7', 'A6_HC8', 'A6_HC9', 'A7_HC1', 'A7_HC10', 'A7_HC11', 'A7_HC12', 'A7_HC13', 'A7_HC14', 'A7_HC15', 'A7_HC16', 'A7_HC17', 'A7_HC18', 'A7_HC19', 'A7_HC2', 'A7_HC20', 'A7_HC21', 'A7_HC22', 'A7_HC23', 'A7_HC24', 'A7_HC25', 'A7_HC26', 'A7_HC27', 'A7_HC28', 'A7_HC29', 'A7_HC3', 'A7_HC30', 'A7_HC4', 'A7_HC5', 'A7_HC6', 'A7_HC7', 'A7_HC8', 'A7_HC9', 'A8_HC1', 'A8_HC10', 'A8_HC11', 'A8_HC12', 'A8_HC13', 'A8_HC14', 'A8_HC15', 'A8_HC16', 'A8_HC17', 'A8_HC18', 'A8_HC19', 'A8_HC2', 'A8_HC20', 'A8_HC21', 'A8_HC22', 'A8_HC23', 'A8_HC24', 'A8_HC25', 'A8_HC26', 'A8_HC27', 'A8_HC28', 'A8_HC29', 'A8_HC3', 'A8_HC30', 'A8_HC4', 'A8_HC5', 'A8_HC6', 'A8_HC7', 'A8_HC8', 'A8_HC9', 'A9_HC1', 'A9_HC10', 'A9_HC11', 'A9_HC12', 'A9_HC13', 'A9_HC14', 'A9_HC15', 'A9_HC16', 'A9_HC17', 'A9_HC18', 'A9_HC19', 'A9_HC2', 'A9_HC20', 'A9_HC21', 'A9_HC22', 'A9_HC23', 'A9_HC24', 'A9_HC25', 'A9_HC26', 'A9_HC27', 'A9_HC28', 'A9_HC29', 'A9_HC3', 'A9_HC30', 'A9_HC4', 'A9_HC5', 'A9_HC6', 'A9_HC7', 'A9_HC8', 'A9_HC9']\n"
     ]
    }
   ],
   "source": [
    "print(list(pivoted_ml_bets.columns))"
   ]
  },
  {
   "cell_type": "code",
   "execution_count": 74,
   "metadata": {},
   "outputs": [
    {
     "name": "stdout",
     "output_type": "stream",
     "text": [
      "Here are the columns we considered adding to the model: ['A0_HC1', 'A0_HC10', 'A0_HC11', 'A0_HC12', 'A0_HC13', 'A0_HC14', 'A0_HC15', 'A0_HC16', 'A0_HC17', 'A0_HC18', 'A0_HC19', 'A0_HC2', 'A0_HC20', 'A0_HC21', 'A0_HC22', 'A0_HC23', 'A0_HC24', 'A0_HC25', 'A0_HC26', 'A0_HC27', 'A0_HC28', 'A0_HC29', 'A0_HC3', 'A0_HC30', 'A0_HC4', 'A0_HC5', 'A0_HC6', 'A0_HC7', 'A0_HC8', 'A0_HC9', 'A1_HC1', 'A1_HC10', 'A1_HC11', 'A1_HC12', 'A1_HC13', 'A1_HC14', 'A1_HC15', 'A1_HC16', 'A1_HC17', 'A1_HC18', 'A1_HC19', 'A1_HC2', 'A1_HC20', 'A1_HC21', 'A1_HC22', 'A1_HC23', 'A1_HC24', 'A1_HC25', 'A1_HC26', 'A1_HC27', 'A1_HC28', 'A1_HC29', 'A1_HC3', 'A1_HC30', 'A1_HC4', 'A1_HC5', 'A1_HC6', 'A1_HC7', 'A1_HC8', 'A1_HC9', 'A2_HC1', 'A2_HC10', 'A2_HC11', 'A2_HC12', 'A2_HC13', 'A2_HC14', 'A2_HC15', 'A2_HC16', 'A2_HC17', 'A2_HC18', 'A2_HC19', 'A2_HC2', 'A2_HC20', 'A2_HC21', 'A2_HC22', 'A2_HC23', 'A2_HC24', 'A2_HC25', 'A2_HC26', 'A2_HC27', 'A2_HC28', 'A2_HC29', 'A2_HC3', 'A2_HC30', 'A2_HC4', 'A2_HC5', 'A2_HC6', 'A2_HC7', 'A2_HC8', 'A2_HC9', 'A3_HC1', 'A3_HC10', 'A3_HC11', 'A3_HC12', 'A3_HC13', 'A3_HC14', 'A3_HC15', 'A3_HC16', 'A3_HC17', 'A3_HC18', 'A3_HC19', 'A3_HC2', 'A3_HC20', 'A3_HC21', 'A3_HC22', 'A3_HC23', 'A3_HC24', 'A3_HC25', 'A3_HC26', 'A3_HC27', 'A3_HC28', 'A3_HC29', 'A3_HC3', 'A3_HC30', 'A3_HC4', 'A3_HC5', 'A3_HC6', 'A3_HC7', 'A3_HC8', 'A3_HC9', 'A4_HC1', 'A4_HC10', 'A4_HC11', 'A4_HC12', 'A4_HC13', 'A4_HC14', 'A4_HC15', 'A4_HC16', 'A4_HC17', 'A4_HC18', 'A4_HC19', 'A4_HC2', 'A4_HC20', 'A4_HC21', 'A4_HC22', 'A4_HC23', 'A4_HC24', 'A4_HC25', 'A4_HC26', 'A4_HC27', 'A4_HC28', 'A4_HC29', 'A4_HC3', 'A4_HC30', 'A4_HC4', 'A4_HC5', 'A4_HC6', 'A4_HC7', 'A4_HC8', 'A4_HC9', 'A5_HC1', 'A5_HC10', 'A5_HC11', 'A5_HC12', 'A5_HC13', 'A5_HC14', 'A5_HC15', 'A5_HC16', 'A5_HC17', 'A5_HC18', 'A5_HC19', 'A5_HC2', 'A5_HC20', 'A5_HC21', 'A5_HC22', 'A5_HC23', 'A5_HC24', 'A5_HC25', 'A5_HC26', 'A5_HC27', 'A5_HC28', 'A5_HC29', 'A5_HC3', 'A5_HC30', 'A5_HC4', 'A5_HC5', 'A5_HC6', 'A5_HC7', 'A5_HC8', 'A5_HC9', 'A6_HC1', 'A6_HC10', 'A6_HC11', 'A6_HC12', 'A6_HC13', 'A6_HC14', 'A6_HC15', 'A6_HC16', 'A6_HC17', 'A6_HC18', 'A6_HC19', 'A6_HC2', 'A6_HC20', 'A6_HC21', 'A6_HC22', 'A6_HC23', 'A6_HC24', 'A6_HC25', 'A6_HC26', 'A6_HC27', 'A6_HC28', 'A6_HC29', 'A6_HC3', 'A6_HC30', 'A6_HC4', 'A6_HC5', 'A6_HC6', 'A6_HC7', 'A6_HC8', 'A6_HC9', 'A7_HC1', 'A7_HC10', 'A7_HC11', 'A7_HC12', 'A7_HC13', 'A7_HC14', 'A7_HC15', 'A7_HC16', 'A7_HC17', 'A7_HC18', 'A7_HC19', 'A7_HC2', 'A7_HC20', 'A7_HC21', 'A7_HC22', 'A7_HC23', 'A7_HC24', 'A7_HC25', 'A7_HC26', 'A7_HC27', 'A7_HC28', 'A7_HC29', 'A7_HC3', 'A7_HC30', 'A7_HC4', 'A7_HC5', 'A7_HC6', 'A7_HC7', 'A7_HC8', 'A7_HC9', 'A8_HC1', 'A8_HC10', 'A8_HC11', 'A8_HC12', 'A8_HC13', 'A8_HC14', 'A8_HC15', 'A8_HC16', 'A8_HC17', 'A8_HC18', 'A8_HC19', 'A8_HC2', 'A8_HC20', 'A8_HC21', 'A8_HC22', 'A8_HC23', 'A8_HC24', 'A8_HC25', 'A8_HC26', 'A8_HC27', 'A8_HC28', 'A8_HC29', 'A8_HC3', 'A8_HC30', 'A8_HC4', 'A8_HC5', 'A8_HC6', 'A8_HC7', 'A8_HC8', 'A8_HC9', 'A9_HC1', 'A9_HC10', 'A9_HC11', 'A9_HC12', 'A9_HC13', 'A9_HC14', 'A9_HC15', 'A9_HC16', 'A9_HC17', 'A9_HC18', 'A9_HC19', 'A9_HC2', 'A9_HC20', 'A9_HC21', 'A9_HC22', 'A9_HC23', 'A9_HC24', 'A9_HC25', 'A9_HC26', 'A9_HC27', 'A9_HC28', 'A9_HC29', 'A9_HC3', 'A9_HC30', 'A9_HC4', 'A9_HC5', 'A9_HC6', 'A9_HC7', 'A9_HC8', 'A9_HC9', 'League'] \n",
      "\n",
      "Here are the features the model will use:\n",
      " ['A0_HC10_Away', 'A0_HC10_Home', 'A0_HC10_NoBet', 'A0_HC11_Away', 'A0_HC11_Home', 'A0_HC11_NoBet', 'A0_HC12_Away', 'A0_HC12_Home', 'A0_HC12_NoBet', 'A0_HC13_Away', 'A0_HC13_Home', 'A0_HC13_NoBet', 'A0_HC14_Away', 'A0_HC14_Home', 'A0_HC14_NoBet', 'A0_HC15_Away', 'A0_HC15_Home', 'A0_HC15_NoBet', 'A0_HC16_Away', 'A0_HC16_Home', 'A0_HC16_NoBet', 'A0_HC17_Away', 'A0_HC17_Home', 'A0_HC17_NoBet', 'A0_HC18_Away', 'A0_HC18_Home', 'A0_HC18_NoBet', 'A0_HC19_Away', 'A0_HC19_Home', 'A0_HC19_NoBet', 'A0_HC1_Away', 'A0_HC1_Home', 'A0_HC1_NoBet', 'A0_HC20_Away', 'A0_HC20_Home', 'A0_HC20_NoBet', 'A0_HC21_Away', 'A0_HC21_Home', 'A0_HC21_NoBet', 'A0_HC22_Away', 'A0_HC22_Home', 'A0_HC22_NoBet', 'A0_HC23_Away', 'A0_HC23_Home', 'A0_HC23_NoBet', 'A0_HC24_Away', 'A0_HC24_Home', 'A0_HC24_NoBet', 'A0_HC25_Away', 'A0_HC25_Home', 'A0_HC25_NoBet', 'A0_HC26_Away', 'A0_HC26_Home', 'A0_HC26_NoBet', 'A0_HC27_Away', 'A0_HC27_Home', 'A0_HC27_NoBet', 'A0_HC28_Away', 'A0_HC28_Home', 'A0_HC28_NoBet', 'A0_HC29_Away', 'A0_HC29_Home', 'A0_HC29_NoBet', 'A0_HC2_Away', 'A0_HC2_Home', 'A0_HC2_NoBet', 'A0_HC30_Away', 'A0_HC30_Home', 'A0_HC30_NoBet', 'A0_HC3_Away', 'A0_HC3_Home', 'A0_HC3_NoBet', 'A0_HC4_Away', 'A0_HC4_Home', 'A0_HC4_NoBet', 'A0_HC5_Away', 'A0_HC5_Home', 'A0_HC5_NoBet', 'A0_HC6_Away', 'A0_HC6_Home', 'A0_HC6_NoBet', 'A0_HC7_Away', 'A0_HC7_Home', 'A0_HC7_NoBet', 'A0_HC8_Away', 'A0_HC8_Home', 'A0_HC8_NoBet', 'A0_HC9_Away', 'A0_HC9_Home', 'A0_HC9_NoBet', 'A1_HC1', 'A1_HC10', 'A1_HC11', 'A1_HC12', 'A1_HC13', 'A1_HC14', 'A1_HC15', 'A1_HC16', 'A1_HC17', 'A1_HC18', 'A1_HC19', 'A1_HC2', 'A1_HC20', 'A1_HC21', 'A1_HC22', 'A1_HC23', 'A1_HC24', 'A1_HC25', 'A1_HC26', 'A1_HC27', 'A1_HC28', 'A1_HC29', 'A1_HC3', 'A1_HC30', 'A1_HC4', 'A1_HC5', 'A1_HC6', 'A1_HC7', 'A1_HC8', 'A1_HC9', 'A2_HC1', 'A2_HC10', 'A2_HC11', 'A2_HC12', 'A2_HC13', 'A2_HC14', 'A2_HC15', 'A2_HC16', 'A2_HC17', 'A2_HC18', 'A2_HC19', 'A2_HC2', 'A2_HC20', 'A2_HC21', 'A2_HC22', 'A2_HC23', 'A2_HC24', 'A2_HC25', 'A2_HC26', 'A2_HC27', 'A2_HC28', 'A2_HC29', 'A2_HC3', 'A2_HC30', 'A2_HC4', 'A2_HC5', 'A2_HC6', 'A2_HC7', 'A2_HC8', 'A2_HC9', 'A3_HC1', 'A3_HC10', 'A3_HC11', 'A3_HC12', 'A3_HC13', 'A3_HC14', 'A3_HC15', 'A3_HC16', 'A3_HC17', 'A3_HC18', 'A3_HC19', 'A3_HC2', 'A3_HC20', 'A3_HC21', 'A3_HC22', 'A3_HC23', 'A3_HC24', 'A3_HC25', 'A3_HC26', 'A3_HC27', 'A3_HC28', 'A3_HC29', 'A3_HC3', 'A3_HC30', 'A3_HC4', 'A3_HC5', 'A3_HC6', 'A3_HC7', 'A3_HC8', 'A3_HC9', 'A4_HC1', 'A4_HC10', 'A4_HC11', 'A4_HC12', 'A4_HC13', 'A4_HC14', 'A4_HC15', 'A4_HC16', 'A4_HC17', 'A4_HC18', 'A4_HC19', 'A4_HC2', 'A4_HC20', 'A4_HC21', 'A4_HC22', 'A4_HC23', 'A4_HC24', 'A4_HC25', 'A4_HC26', 'A4_HC27', 'A4_HC28', 'A4_HC29', 'A4_HC3', 'A4_HC30', 'A4_HC4', 'A4_HC5', 'A4_HC6', 'A4_HC7', 'A4_HC8', 'A4_HC9', 'A5_HC1', 'A5_HC10', 'A5_HC11', 'A5_HC12', 'A5_HC13', 'A5_HC14', 'A5_HC15', 'A5_HC16', 'A5_HC17', 'A5_HC18', 'A5_HC19', 'A5_HC2', 'A5_HC20', 'A5_HC21', 'A5_HC22', 'A5_HC23', 'A5_HC24', 'A5_HC25', 'A5_HC26', 'A5_HC27', 'A5_HC28', 'A5_HC29', 'A5_HC3', 'A5_HC30', 'A5_HC4', 'A5_HC5', 'A5_HC6', 'A5_HC7', 'A5_HC8', 'A5_HC9', 'A6_HC1', 'A6_HC10', 'A6_HC11', 'A6_HC12', 'A6_HC13', 'A6_HC14', 'A6_HC15', 'A6_HC16', 'A6_HC17', 'A6_HC18', 'A6_HC19', 'A6_HC2', 'A6_HC20', 'A6_HC21', 'A6_HC22', 'A6_HC23', 'A6_HC24', 'A6_HC25', 'A6_HC26', 'A6_HC27', 'A6_HC28', 'A6_HC29', 'A6_HC3', 'A6_HC30', 'A6_HC4', 'A6_HC5', 'A6_HC6', 'A6_HC7', 'A6_HC8', 'A6_HC9', 'A7_HC10_0', 'A7_HC10_favorite', 'A7_HC10_normal', 'A7_HC10_underdog', 'A7_HC11_0', 'A7_HC11_favorite', 'A7_HC11_normal', 'A7_HC11_underdog', 'A7_HC12_0', 'A7_HC12_favorite', 'A7_HC12_normal', 'A7_HC12_underdog', 'A7_HC13_0', 'A7_HC13_favorite', 'A7_HC13_normal', 'A7_HC13_underdog', 'A7_HC14_0', 'A7_HC14_favorite', 'A7_HC14_normal', 'A7_HC14_underdog', 'A7_HC15_0', 'A7_HC15_favorite', 'A7_HC15_normal', 'A7_HC15_underdog', 'A7_HC16_0', 'A7_HC16_favorite', 'A7_HC16_normal', 'A7_HC16_underdog', 'A7_HC17_0', 'A7_HC17_favorite', 'A7_HC17_normal', 'A7_HC17_underdog', 'A7_HC18_0', 'A7_HC18_favorite', 'A7_HC18_normal', 'A7_HC18_underdog', 'A7_HC19_0', 'A7_HC19_favorite', 'A7_HC19_normal', 'A7_HC19_underdog', 'A7_HC1_0', 'A7_HC1_favorite', 'A7_HC1_normal', 'A7_HC1_underdog', 'A7_HC20_0', 'A7_HC20_favorite', 'A7_HC20_normal', 'A7_HC20_underdog', 'A7_HC21_0', 'A7_HC21_favorite', 'A7_HC21_normal', 'A7_HC21_underdog', 'A7_HC22_0', 'A7_HC22_favorite', 'A7_HC22_normal', 'A7_HC22_underdog', 'A7_HC23_0', 'A7_HC23_favorite', 'A7_HC23_normal', 'A7_HC23_underdog', 'A7_HC24_0', 'A7_HC24_favorite', 'A7_HC24_normal', 'A7_HC24_underdog', 'A7_HC25_0', 'A7_HC25_favorite', 'A7_HC25_normal', 'A7_HC25_underdog', 'A7_HC26_0', 'A7_HC26_favorite', 'A7_HC26_normal', 'A7_HC26_underdog', 'A7_HC27_0', 'A7_HC27_favorite', 'A7_HC27_normal', 'A7_HC27_underdog', 'A7_HC28_0', 'A7_HC28_favorite', 'A7_HC28_normal', 'A7_HC28_underdog', 'A7_HC29_0', 'A7_HC29_favorite', 'A7_HC29_normal', 'A7_HC29_underdog', 'A7_HC2_0', 'A7_HC2_favorite', 'A7_HC2_normal', 'A7_HC2_underdog', 'A7_HC30_0', 'A7_HC30_favorite', 'A7_HC30_normal', 'A7_HC30_underdog', 'A7_HC3_0', 'A7_HC3_favorite', 'A7_HC3_normal', 'A7_HC3_underdog', 'A7_HC4_0', 'A7_HC4_favorite', 'A7_HC4_normal', 'A7_HC4_underdog', 'A7_HC5_0', 'A7_HC5_favorite', 'A7_HC5_normal', 'A7_HC5_underdog', 'A7_HC6_0', 'A7_HC6_favorite', 'A7_HC6_normal', 'A7_HC6_underdog', 'A7_HC7_0', 'A7_HC7_favorite', 'A7_HC7_normal', 'A7_HC7_underdog', 'A7_HC8_0', 'A7_HC8_favorite', 'A7_HC8_normal', 'A7_HC8_underdog', 'A7_HC9_0', 'A7_HC9_favorite', 'A7_HC9_normal', 'A7_HC9_underdog', 'A8_HC1', 'A8_HC10', 'A8_HC11', 'A8_HC12', 'A8_HC13', 'A8_HC14', 'A8_HC15', 'A8_HC16', 'A8_HC17', 'A8_HC18', 'A8_HC19', 'A8_HC2', 'A8_HC20', 'A8_HC21', 'A8_HC22', 'A8_HC23', 'A8_HC24', 'A8_HC25', 'A8_HC26', 'A8_HC27', 'A8_HC28', 'A8_HC29', 'A8_HC3', 'A8_HC30', 'A8_HC4', 'A8_HC5', 'A8_HC6', 'A8_HC7', 'A8_HC8', 'A8_HC9', 'A9_HC1', 'A9_HC10', 'A9_HC11', 'A9_HC12', 'A9_HC13', 'A9_HC14', 'A9_HC15', 'A9_HC16', 'A9_HC17', 'A9_HC18', 'A9_HC19', 'A9_HC2', 'A9_HC20', 'A9_HC21', 'A9_HC22', 'A9_HC23', 'A9_HC24', 'A9_HC25', 'A9_HC26', 'A9_HC27', 'A9_HC28', 'A9_HC29', 'A9_HC3', 'A9_HC30', 'A9_HC4', 'A9_HC5', 'A9_HC6', 'A9_HC7', 'A9_HC8', 'A9_HC9', 'League_MLB', 'League_NBA', 'League_NCAAB', 'League_NCAAF', 'League_NFL', 'League_NHL'] \n",
      "\n",
      "Train data: (12786, 456)\n",
      "Test data: (2790, 456)\n",
      "\n",
      "For K =  1 \n",
      "\n"
     ]
    },
    {
     "name": "stdout",
     "output_type": "stream",
     "text": [
      "train:  0.998905052401\n",
      "test:  0.52688172043\n",
      "\n",
      "Confusion matrix:\n",
      "[[643 645]\n",
      " [675 827]]\n",
      "\n",
      "Classification report for classifier KNeighborsClassifier(algorithm='auto', leaf_size=30, metric='minkowski',\n",
      "           metric_params=None, n_jobs=1, n_neighbors=1, p=2,\n",
      "           weights='uniform'):\n",
      "             precision    recall  f1-score   support\n",
      "\n",
      "       Away       0.49      0.50      0.49      1288\n",
      "       Home       0.56      0.55      0.56      1502\n",
      "\n",
      "avg / total       0.53      0.53      0.53      2790\n",
      "\n",
      "\n",
      "\n",
      "For K =  2 \n",
      "\n",
      "train:  0.7497262631\n",
      "test:  0.495698924731\n",
      "\n",
      "Confusion matrix:\n",
      "[[ 961  327]\n",
      " [1080  422]]\n",
      "\n",
      "Classification report for classifier KNeighborsClassifier(algorithm='auto', leaf_size=30, metric='minkowski',\n",
      "           metric_params=None, n_jobs=1, n_neighbors=2, p=2,\n",
      "           weights='uniform'):\n",
      "             precision    recall  f1-score   support\n",
      "\n",
      "       Away       0.47      0.75      0.58      1288\n",
      "       Home       0.56      0.28      0.37      1502\n",
      "\n",
      "avg / total       0.52      0.50      0.47      2790\n",
      "\n",
      "\n",
      "\n",
      "For K =  3 \n",
      "\n",
      "train:  0.749648052557\n",
      "test:  0.50752688172\n",
      "\n",
      "Confusion matrix:\n",
      "[[634 654]\n",
      " [720 782]]\n",
      "\n",
      "Classification report for classifier KNeighborsClassifier(algorithm='auto', leaf_size=30, metric='minkowski',\n",
      "           metric_params=None, n_jobs=1, n_neighbors=3, p=2,\n",
      "           weights='uniform'):\n",
      "             precision    recall  f1-score   support\n",
      "\n",
      "       Away       0.47      0.49      0.48      1288\n",
      "       Home       0.54      0.52      0.53      1502\n",
      "\n",
      "avg / total       0.51      0.51      0.51      2790\n",
      "\n",
      "\n"
     ]
    }
   ],
   "source": [
    "columns_to_exclude = ['GameKey', 'GameTime', \n",
    "                      'Away', 'Home',\n",
    "                      'Juice_Away', 'Juice_Home', 'MLWinner']\n",
    "\n",
    "columns_to_use = pivoted_ml_bets.columns.difference(columns_to_exclude)\n",
    "print('Here are the columns we considered adding to the model:', list(columns_to_use), '\\n')\n",
    "\n",
    "target = ['MLWinner']\n",
    "\n",
    "make_dummies = ['League', \n",
    "                'A7_HC1', 'A7_HC10', 'A7_HC11', 'A7_HC12', 'A7_HC13', 'A7_HC14', 'A7_HC15', 'A7_HC16', 'A7_HC17', 'A7_HC18', 'A7_HC19', 'A7_HC2', 'A7_HC20', 'A7_HC21', 'A7_HC22', 'A7_HC23', 'A7_HC24', 'A7_HC25', 'A7_HC26', 'A7_HC27', 'A7_HC28', 'A7_HC29', 'A7_HC3', 'A7_HC30', 'A7_HC4', 'A7_HC5', 'A7_HC6', 'A7_HC7', 'A7_HC8', 'A7_HC9',\n",
    "                'A0_HC1', 'A0_HC10', 'A0_HC11', 'A0_HC12', 'A0_HC13', 'A0_HC14', 'A0_HC15', 'A0_HC16', 'A0_HC17', 'A0_HC18', 'A0_HC19', 'A0_HC2', 'A0_HC20', 'A0_HC21', 'A0_HC22', 'A0_HC23', 'A0_HC24', 'A0_HC25', 'A0_HC26', 'A0_HC27', 'A0_HC28', 'A0_HC29', 'A0_HC3', 'A0_HC30', 'A0_HC4', 'A0_HC5', 'A0_HC6', 'A0_HC7', 'A0_HC8', 'A0_HC9'\n",
    "               ]\n",
    "\n",
    "binarized_pivoted_ml_bets = pd.get_dummies(pivoted_ml_bets, columns=make_dummies)\n",
    "\n",
    "features = binarized_pivoted_ml_bets.columns.difference(columns_to_exclude)\n",
    "print('Here are the features the model will use:\\n', list(features), '\\n')\n",
    "\n",
    "# Split into train and test data.\n",
    "train_data = binarized_pivoted_ml_bets[(binarized_pivoted_ml_bets.GameTime < '2017-07-01')][features]\n",
    "train_labels = pivoted_ml_bets[(pivoted_ml_bets.GameTime < '2017-07-01')][target]\n",
    "\n",
    "test_data = binarized_pivoted_ml_bets[(binarized_pivoted_ml_bets.GameTime >= '2017-07-01')][features]\n",
    "test_labels = pivoted_ml_bets[(pivoted_ml_bets.GameTime >= '2017-07-01')][target]\n",
    "\n",
    "print('Train data:', train_data.shape)\n",
    "print('Test data:', test_data.shape)\n",
    "\n",
    "for k in range(1,4):\n",
    "    print('\\nFor K = ', k, '\\n')    \n",
    "    clf = KNeighborsClassifier(n_neighbors=k)\n",
    "    clf.fit(train_data, train_labels.values.ravel())\n",
    "\n",
    "    print('train: ', accuracy_score(clf.predict(train_data),train_labels))\n",
    "    print('test: ', accuracy_score(clf.predict(test_data),test_labels))\n",
    "\n",
    "    test_predicted_labels = clf.predict(test_data)\n",
    "    test_predicted_probs = clf.predict_proba(test_data)\n",
    "    print(\"\\nConfusion matrix:\\n%s\" % confusion_matrix(test_labels, test_predicted_labels))\n",
    "    print(\"\\nClassification report for classifier %s:\\n%s\\n\"\n",
    "    % (clf, classification_report(test_labels, test_predicted_labels))) "
   ]
  },
  {
   "cell_type": "markdown",
   "metadata": {},
   "source": [
    "## Naive Bayes <a name='nb' />\n",
    "\n",
    "<a href='#top'>[Back to Contents]</a>"
   ]
  },
  {
   "cell_type": "markdown",
   "metadata": {},
   "source": [
    "#### On unpivoted data"
   ]
  },
  {
   "cell_type": "code",
   "execution_count": 76,
   "metadata": {},
   "outputs": [],
   "source": [
    "#from sklearn.naive_bayes import BernoulliNB\n",
    "from sklearn.naive_bayes import GaussianNB"
   ]
  },
  {
   "cell_type": "code",
   "execution_count": 77,
   "metadata": {},
   "outputs": [
    {
     "name": "stdout",
     "output_type": "stream",
     "text": [
      "Here are columns we can use: Index(['League', 'MLBet', 'bet_risk', 'win_past_30_all_sport',\n",
      "       'win_past_30_all_sport_percent', 'win_past_30_specific_risk',\n",
      "       'win_past_30_specific_risk_percent', 'win_past_30_specific_sport',\n",
      "       'win_past_30_specific_sport_percent', 'win_steak_all_sport',\n",
      "       'win_steak_specific_sport'],\n",
      "      dtype='object')\n"
     ]
    }
   ],
   "source": [
    "non_clf_ml_bets = df[(df['Bet']=='MONEY LINE') & (df['League']!='CFL') & (df['MLWinner'] !='')]\n",
    "\n",
    "columns_to_exclude = ['GameKey', 'GameTime', 'Bet', 'On', \n",
    "                      'Handicapper', 'Away', 'Home',\n",
    "                      'Juice', 'Type', 'Result', 'MLWinner']\n",
    "\n",
    "columns_to_use = non_clf_ml_bets.columns.difference(columns_to_exclude)\n",
    "print('Here are columns we can use:', columns_to_use)\n",
    "\n",
    "target = ['MLWinner']\n"
   ]
  },
  {
   "cell_type": "code",
   "execution_count": 78,
   "metadata": {},
   "outputs": [
    {
     "name": "stdout",
     "output_type": "stream",
     "text": [
      "Here are the features the model will use:\n",
      " ['League_MLB', 'League_NBA', 'League_NCAAB', 'League_NCAAF', 'League_NFL', 'League_NHL', 'MLBet_Away', 'MLBet_Home', 'bet_risk_favorite', 'bet_risk_normal', 'bet_risk_underdog', 'win_past_30_all_sport', 'win_past_30_all_sport_percent', 'win_past_30_specific_risk', 'win_past_30_specific_risk_percent', 'win_past_30_specific_sport', 'win_past_30_specific_sport_percent', 'win_steak_all_sport', 'win_steak_specific_sport'] \n",
      "\n",
      "Train data: (32383, 19)\n",
      "Test data: (8083, 19)\n"
     ]
    }
   ],
   "source": [
    "make_dummies = ['League', 'MLBet', 'bet_risk']\n",
    "\n",
    "binarized_non_clf_ml_bets = pd.get_dummies(non_clf_ml_bets, columns=make_dummies)\n",
    "\n",
    "features = binarized_non_clf_ml_bets.columns.difference(columns_to_exclude)\n",
    "print('Here are the features the model will use:\\n', list(features), '\\n')\n",
    "\n",
    "# Split into train and test data.\n",
    "train_data = binarized_non_clf_ml_bets[(binarized_non_clf_ml_bets.GameTime < '2017-07-01')][features]\n",
    "train_labels = non_clf_ml_bets[(non_clf_ml_bets.GameTime < '2017-07-01')][target]\n",
    "\n",
    "test_data = binarized_non_clf_ml_bets[(binarized_non_clf_ml_bets.GameTime >= '2017-07-01')][features]\n",
    "test_labels = non_clf_ml_bets[(non_clf_ml_bets.GameTime >= '2017-07-01')][target]\n",
    "\n",
    "print('Train data:', train_data.shape)\n",
    "print('Test data:', test_data.shape)"
   ]
  },
  {
   "cell_type": "code",
   "execution_count": 81,
   "metadata": {},
   "outputs": [
    {
     "name": "stdout",
     "output_type": "stream",
     "text": [
      "train:  0.527591637588\n",
      "test:  0.527155759\n",
      "\n",
      "Confusion matrix:\n",
      "[[1383 2397]\n",
      " [1425 2878]]\n",
      "\n",
      "Classification report for classifier GaussianNB(priors=None):\n",
      "             precision    recall  f1-score   support\n",
      "\n",
      "       Away       0.49      0.37      0.42      3780\n",
      "       Home       0.55      0.67      0.60      4303\n",
      "\n",
      "avg / total       0.52      0.53      0.52      8083\n",
      "\n",
      "\n"
     ]
    }
   ],
   "source": [
    "clf=GaussianNB()\n",
    "clf.fit(train_data,train_labels.values.ravel())\n",
    "\n",
    "print('train: ', accuracy_score(clf.predict(train_data),train_labels))\n",
    "print('test: ', accuracy_score(clf.predict(test_data),test_labels))\n",
    "\n",
    "test_predicted_labels = clf.predict(test_data)\n",
    "test_predicted_probs = clf.predict_proba(test_data)\n",
    "print(\"\\nConfusion matrix:\\n%s\" % confusion_matrix(test_labels, test_predicted_labels))\n",
    "print(\"\\nClassification report for classifier %s:\\n%s\\n\"\n",
    "% (clf, classification_report(test_labels, test_predicted_labels))) "
   ]
  },
  {
   "cell_type": "markdown",
   "metadata": {},
   "source": [
    "#### On pivoted data"
   ]
  },
  {
   "cell_type": "code",
   "execution_count": 86,
   "metadata": {},
   "outputs": [
    {
     "name": "stdout",
     "output_type": "stream",
     "text": [
      "Here are the columns we considered adding to the model: ['A0_HC1', 'A0_HC10', 'A0_HC11', 'A0_HC12', 'A0_HC13', 'A0_HC14', 'A0_HC15', 'A0_HC16', 'A0_HC17', 'A0_HC18', 'A0_HC19', 'A0_HC2', 'A0_HC20', 'A0_HC21', 'A0_HC22', 'A0_HC23', 'A0_HC24', 'A0_HC25', 'A0_HC26', 'A0_HC27', 'A0_HC28', 'A0_HC29', 'A0_HC3', 'A0_HC30', 'A0_HC4', 'A0_HC5', 'A0_HC6', 'A0_HC7', 'A0_HC8', 'A0_HC9', 'A1_HC1', 'A1_HC10', 'A1_HC11', 'A1_HC12', 'A1_HC13', 'A1_HC14', 'A1_HC15', 'A1_HC16', 'A1_HC17', 'A1_HC18', 'A1_HC19', 'A1_HC2', 'A1_HC20', 'A1_HC21', 'A1_HC22', 'A1_HC23', 'A1_HC24', 'A1_HC25', 'A1_HC26', 'A1_HC27', 'A1_HC28', 'A1_HC29', 'A1_HC3', 'A1_HC30', 'A1_HC4', 'A1_HC5', 'A1_HC6', 'A1_HC7', 'A1_HC8', 'A1_HC9', 'A2_HC1', 'A2_HC10', 'A2_HC11', 'A2_HC12', 'A2_HC13', 'A2_HC14', 'A2_HC15', 'A2_HC16', 'A2_HC17', 'A2_HC18', 'A2_HC19', 'A2_HC2', 'A2_HC20', 'A2_HC21', 'A2_HC22', 'A2_HC23', 'A2_HC24', 'A2_HC25', 'A2_HC26', 'A2_HC27', 'A2_HC28', 'A2_HC29', 'A2_HC3', 'A2_HC30', 'A2_HC4', 'A2_HC5', 'A2_HC6', 'A2_HC7', 'A2_HC8', 'A2_HC9', 'A3_HC1', 'A3_HC10', 'A3_HC11', 'A3_HC12', 'A3_HC13', 'A3_HC14', 'A3_HC15', 'A3_HC16', 'A3_HC17', 'A3_HC18', 'A3_HC19', 'A3_HC2', 'A3_HC20', 'A3_HC21', 'A3_HC22', 'A3_HC23', 'A3_HC24', 'A3_HC25', 'A3_HC26', 'A3_HC27', 'A3_HC28', 'A3_HC29', 'A3_HC3', 'A3_HC30', 'A3_HC4', 'A3_HC5', 'A3_HC6', 'A3_HC7', 'A3_HC8', 'A3_HC9', 'A4_HC1', 'A4_HC10', 'A4_HC11', 'A4_HC12', 'A4_HC13', 'A4_HC14', 'A4_HC15', 'A4_HC16', 'A4_HC17', 'A4_HC18', 'A4_HC19', 'A4_HC2', 'A4_HC20', 'A4_HC21', 'A4_HC22', 'A4_HC23', 'A4_HC24', 'A4_HC25', 'A4_HC26', 'A4_HC27', 'A4_HC28', 'A4_HC29', 'A4_HC3', 'A4_HC30', 'A4_HC4', 'A4_HC5', 'A4_HC6', 'A4_HC7', 'A4_HC8', 'A4_HC9', 'A5_HC1', 'A5_HC10', 'A5_HC11', 'A5_HC12', 'A5_HC13', 'A5_HC14', 'A5_HC15', 'A5_HC16', 'A5_HC17', 'A5_HC18', 'A5_HC19', 'A5_HC2', 'A5_HC20', 'A5_HC21', 'A5_HC22', 'A5_HC23', 'A5_HC24', 'A5_HC25', 'A5_HC26', 'A5_HC27', 'A5_HC28', 'A5_HC29', 'A5_HC3', 'A5_HC30', 'A5_HC4', 'A5_HC5', 'A5_HC6', 'A5_HC7', 'A5_HC8', 'A5_HC9', 'A6_HC1', 'A6_HC10', 'A6_HC11', 'A6_HC12', 'A6_HC13', 'A6_HC14', 'A6_HC15', 'A6_HC16', 'A6_HC17', 'A6_HC18', 'A6_HC19', 'A6_HC2', 'A6_HC20', 'A6_HC21', 'A6_HC22', 'A6_HC23', 'A6_HC24', 'A6_HC25', 'A6_HC26', 'A6_HC27', 'A6_HC28', 'A6_HC29', 'A6_HC3', 'A6_HC30', 'A6_HC4', 'A6_HC5', 'A6_HC6', 'A6_HC7', 'A6_HC8', 'A6_HC9', 'A7_HC1', 'A7_HC10', 'A7_HC11', 'A7_HC12', 'A7_HC13', 'A7_HC14', 'A7_HC15', 'A7_HC16', 'A7_HC17', 'A7_HC18', 'A7_HC19', 'A7_HC2', 'A7_HC20', 'A7_HC21', 'A7_HC22', 'A7_HC23', 'A7_HC24', 'A7_HC25', 'A7_HC26', 'A7_HC27', 'A7_HC28', 'A7_HC29', 'A7_HC3', 'A7_HC30', 'A7_HC4', 'A7_HC5', 'A7_HC6', 'A7_HC7', 'A7_HC8', 'A7_HC9', 'A8_HC1', 'A8_HC10', 'A8_HC11', 'A8_HC12', 'A8_HC13', 'A8_HC14', 'A8_HC15', 'A8_HC16', 'A8_HC17', 'A8_HC18', 'A8_HC19', 'A8_HC2', 'A8_HC20', 'A8_HC21', 'A8_HC22', 'A8_HC23', 'A8_HC24', 'A8_HC25', 'A8_HC26', 'A8_HC27', 'A8_HC28', 'A8_HC29', 'A8_HC3', 'A8_HC30', 'A8_HC4', 'A8_HC5', 'A8_HC6', 'A8_HC7', 'A8_HC8', 'A8_HC9', 'A9_HC1', 'A9_HC10', 'A9_HC11', 'A9_HC12', 'A9_HC13', 'A9_HC14', 'A9_HC15', 'A9_HC16', 'A9_HC17', 'A9_HC18', 'A9_HC19', 'A9_HC2', 'A9_HC20', 'A9_HC21', 'A9_HC22', 'A9_HC23', 'A9_HC24', 'A9_HC25', 'A9_HC26', 'A9_HC27', 'A9_HC28', 'A9_HC29', 'A9_HC3', 'A9_HC30', 'A9_HC4', 'A9_HC5', 'A9_HC6', 'A9_HC7', 'A9_HC8', 'A9_HC9', 'League'] \n",
      "\n",
      "Here are the features the model will use:\n",
      " ['A0_HC10_Away', 'A0_HC10_Home', 'A0_HC10_NoBet', 'A0_HC11_Away', 'A0_HC11_Home', 'A0_HC11_NoBet', 'A0_HC12_Away', 'A0_HC12_Home', 'A0_HC12_NoBet', 'A0_HC13_Away', 'A0_HC13_Home', 'A0_HC13_NoBet', 'A0_HC14_Away', 'A0_HC14_Home', 'A0_HC14_NoBet', 'A0_HC15_Away', 'A0_HC15_Home', 'A0_HC15_NoBet', 'A0_HC16_Away', 'A0_HC16_Home', 'A0_HC16_NoBet', 'A0_HC17_Away', 'A0_HC17_Home', 'A0_HC17_NoBet', 'A0_HC18_Away', 'A0_HC18_Home', 'A0_HC18_NoBet', 'A0_HC19_Away', 'A0_HC19_Home', 'A0_HC19_NoBet', 'A0_HC1_Away', 'A0_HC1_Home', 'A0_HC1_NoBet', 'A0_HC20_Away', 'A0_HC20_Home', 'A0_HC20_NoBet', 'A0_HC21_Away', 'A0_HC21_Home', 'A0_HC21_NoBet', 'A0_HC22_Away', 'A0_HC22_Home', 'A0_HC22_NoBet', 'A0_HC23_Away', 'A0_HC23_Home', 'A0_HC23_NoBet', 'A0_HC24_Away', 'A0_HC24_Home', 'A0_HC24_NoBet', 'A0_HC25_Away', 'A0_HC25_Home', 'A0_HC25_NoBet', 'A0_HC26_Away', 'A0_HC26_Home', 'A0_HC26_NoBet', 'A0_HC27_Away', 'A0_HC27_Home', 'A0_HC27_NoBet', 'A0_HC28_Away', 'A0_HC28_Home', 'A0_HC28_NoBet', 'A0_HC29_Away', 'A0_HC29_Home', 'A0_HC29_NoBet', 'A0_HC2_Away', 'A0_HC2_Home', 'A0_HC2_NoBet', 'A0_HC30_Away', 'A0_HC30_Home', 'A0_HC30_NoBet', 'A0_HC3_Away', 'A0_HC3_Home', 'A0_HC3_NoBet', 'A0_HC4_Away', 'A0_HC4_Home', 'A0_HC4_NoBet', 'A0_HC5_Away', 'A0_HC5_Home', 'A0_HC5_NoBet', 'A0_HC6_Away', 'A0_HC6_Home', 'A0_HC6_NoBet', 'A0_HC7_Away', 'A0_HC7_Home', 'A0_HC7_NoBet', 'A0_HC8_Away', 'A0_HC8_Home', 'A0_HC8_NoBet', 'A0_HC9_Away', 'A0_HC9_Home', 'A0_HC9_NoBet', 'A1_HC1', 'A1_HC10', 'A1_HC11', 'A1_HC12', 'A1_HC13', 'A1_HC14', 'A1_HC15', 'A1_HC16', 'A1_HC17', 'A1_HC18', 'A1_HC19', 'A1_HC2', 'A1_HC20', 'A1_HC21', 'A1_HC22', 'A1_HC23', 'A1_HC24', 'A1_HC25', 'A1_HC26', 'A1_HC27', 'A1_HC28', 'A1_HC29', 'A1_HC3', 'A1_HC30', 'A1_HC4', 'A1_HC5', 'A1_HC6', 'A1_HC7', 'A1_HC8', 'A1_HC9', 'A2_HC1', 'A2_HC10', 'A2_HC11', 'A2_HC12', 'A2_HC13', 'A2_HC14', 'A2_HC15', 'A2_HC16', 'A2_HC17', 'A2_HC18', 'A2_HC19', 'A2_HC2', 'A2_HC20', 'A2_HC21', 'A2_HC22', 'A2_HC23', 'A2_HC24', 'A2_HC25', 'A2_HC26', 'A2_HC27', 'A2_HC28', 'A2_HC29', 'A2_HC3', 'A2_HC30', 'A2_HC4', 'A2_HC5', 'A2_HC6', 'A2_HC7', 'A2_HC8', 'A2_HC9', 'A3_HC1', 'A3_HC10', 'A3_HC11', 'A3_HC12', 'A3_HC13', 'A3_HC14', 'A3_HC15', 'A3_HC16', 'A3_HC17', 'A3_HC18', 'A3_HC19', 'A3_HC2', 'A3_HC20', 'A3_HC21', 'A3_HC22', 'A3_HC23', 'A3_HC24', 'A3_HC25', 'A3_HC26', 'A3_HC27', 'A3_HC28', 'A3_HC29', 'A3_HC3', 'A3_HC30', 'A3_HC4', 'A3_HC5', 'A3_HC6', 'A3_HC7', 'A3_HC8', 'A3_HC9', 'A4_HC1', 'A4_HC10', 'A4_HC11', 'A4_HC12', 'A4_HC13', 'A4_HC14', 'A4_HC15', 'A4_HC16', 'A4_HC17', 'A4_HC18', 'A4_HC19', 'A4_HC2', 'A4_HC20', 'A4_HC21', 'A4_HC22', 'A4_HC23', 'A4_HC24', 'A4_HC25', 'A4_HC26', 'A4_HC27', 'A4_HC28', 'A4_HC29', 'A4_HC3', 'A4_HC30', 'A4_HC4', 'A4_HC5', 'A4_HC6', 'A4_HC7', 'A4_HC8', 'A4_HC9', 'A5_HC1', 'A5_HC10', 'A5_HC11', 'A5_HC12', 'A5_HC13', 'A5_HC14', 'A5_HC15', 'A5_HC16', 'A5_HC17', 'A5_HC18', 'A5_HC19', 'A5_HC2', 'A5_HC20', 'A5_HC21', 'A5_HC22', 'A5_HC23', 'A5_HC24', 'A5_HC25', 'A5_HC26', 'A5_HC27', 'A5_HC28', 'A5_HC29', 'A5_HC3', 'A5_HC30', 'A5_HC4', 'A5_HC5', 'A5_HC6', 'A5_HC7', 'A5_HC8', 'A5_HC9', 'A6_HC1', 'A6_HC10', 'A6_HC11', 'A6_HC12', 'A6_HC13', 'A6_HC14', 'A6_HC15', 'A6_HC16', 'A6_HC17', 'A6_HC18', 'A6_HC19', 'A6_HC2', 'A6_HC20', 'A6_HC21', 'A6_HC22', 'A6_HC23', 'A6_HC24', 'A6_HC25', 'A6_HC26', 'A6_HC27', 'A6_HC28', 'A6_HC29', 'A6_HC3', 'A6_HC30', 'A6_HC4', 'A6_HC5', 'A6_HC6', 'A6_HC7', 'A6_HC8', 'A6_HC9', 'A7_HC10_0', 'A7_HC10_favorite', 'A7_HC10_normal', 'A7_HC10_underdog', 'A7_HC11_0', 'A7_HC11_favorite', 'A7_HC11_normal', 'A7_HC11_underdog', 'A7_HC12_0', 'A7_HC12_favorite', 'A7_HC12_normal', 'A7_HC12_underdog', 'A7_HC13_0', 'A7_HC13_favorite', 'A7_HC13_normal', 'A7_HC13_underdog', 'A7_HC14_0', 'A7_HC14_favorite', 'A7_HC14_normal', 'A7_HC14_underdog', 'A7_HC15_0', 'A7_HC15_favorite', 'A7_HC15_normal', 'A7_HC15_underdog', 'A7_HC16_0', 'A7_HC16_favorite', 'A7_HC16_normal', 'A7_HC16_underdog', 'A7_HC17_0', 'A7_HC17_favorite', 'A7_HC17_normal', 'A7_HC17_underdog', 'A7_HC18_0', 'A7_HC18_favorite', 'A7_HC18_normal', 'A7_HC18_underdog', 'A7_HC19_0', 'A7_HC19_favorite', 'A7_HC19_normal', 'A7_HC19_underdog', 'A7_HC1_0', 'A7_HC1_favorite', 'A7_HC1_normal', 'A7_HC1_underdog', 'A7_HC20_0', 'A7_HC20_favorite', 'A7_HC20_normal', 'A7_HC20_underdog', 'A7_HC21_0', 'A7_HC21_favorite', 'A7_HC21_normal', 'A7_HC21_underdog', 'A7_HC22_0', 'A7_HC22_favorite', 'A7_HC22_normal', 'A7_HC22_underdog', 'A7_HC23_0', 'A7_HC23_favorite', 'A7_HC23_normal', 'A7_HC23_underdog', 'A7_HC24_0', 'A7_HC24_favorite', 'A7_HC24_normal', 'A7_HC24_underdog', 'A7_HC25_0', 'A7_HC25_favorite', 'A7_HC25_normal', 'A7_HC25_underdog', 'A7_HC26_0', 'A7_HC26_favorite', 'A7_HC26_normal', 'A7_HC26_underdog', 'A7_HC27_0', 'A7_HC27_favorite', 'A7_HC27_normal', 'A7_HC27_underdog', 'A7_HC28_0', 'A7_HC28_favorite', 'A7_HC28_normal', 'A7_HC28_underdog', 'A7_HC29_0', 'A7_HC29_favorite', 'A7_HC29_normal', 'A7_HC29_underdog', 'A7_HC2_0', 'A7_HC2_favorite', 'A7_HC2_normal', 'A7_HC2_underdog', 'A7_HC30_0', 'A7_HC30_favorite', 'A7_HC30_normal', 'A7_HC30_underdog', 'A7_HC3_0', 'A7_HC3_favorite', 'A7_HC3_normal', 'A7_HC3_underdog', 'A7_HC4_0', 'A7_HC4_favorite', 'A7_HC4_normal', 'A7_HC4_underdog', 'A7_HC5_0', 'A7_HC5_favorite', 'A7_HC5_normal', 'A7_HC5_underdog', 'A7_HC6_0', 'A7_HC6_favorite', 'A7_HC6_normal', 'A7_HC6_underdog', 'A7_HC7_0', 'A7_HC7_favorite', 'A7_HC7_normal', 'A7_HC7_underdog', 'A7_HC8_0', 'A7_HC8_favorite', 'A7_HC8_normal', 'A7_HC8_underdog', 'A7_HC9_0', 'A7_HC9_favorite', 'A7_HC9_normal', 'A7_HC9_underdog', 'A8_HC1', 'A8_HC10', 'A8_HC11', 'A8_HC12', 'A8_HC13', 'A8_HC14', 'A8_HC15', 'A8_HC16', 'A8_HC17', 'A8_HC18', 'A8_HC19', 'A8_HC2', 'A8_HC20', 'A8_HC21', 'A8_HC22', 'A8_HC23', 'A8_HC24', 'A8_HC25', 'A8_HC26', 'A8_HC27', 'A8_HC28', 'A8_HC29', 'A8_HC3', 'A8_HC30', 'A8_HC4', 'A8_HC5', 'A8_HC6', 'A8_HC7', 'A8_HC8', 'A8_HC9', 'A9_HC1', 'A9_HC10', 'A9_HC11', 'A9_HC12', 'A9_HC13', 'A9_HC14', 'A9_HC15', 'A9_HC16', 'A9_HC17', 'A9_HC18', 'A9_HC19', 'A9_HC2', 'A9_HC20', 'A9_HC21', 'A9_HC22', 'A9_HC23', 'A9_HC24', 'A9_HC25', 'A9_HC26', 'A9_HC27', 'A9_HC28', 'A9_HC29', 'A9_HC3', 'A9_HC30', 'A9_HC4', 'A9_HC5', 'A9_HC6', 'A9_HC7', 'A9_HC8', 'A9_HC9', 'League_MLB', 'League_NBA', 'League_NCAAB', 'League_NCAAF', 'League_NFL', 'League_NHL'] \n",
      "\n",
      "Train data: (12786, 456)\n",
      "Test data: (2790, 456)\n"
     ]
    }
   ],
   "source": [
    "columns_to_exclude = ['GameKey', 'GameTime', \n",
    "                      'Away', 'Home',\n",
    "                      'Juice_Away', 'Juice_Home', 'MLWinner']\n",
    "\n",
    "columns_to_use = pivoted_ml_bets.columns.difference(columns_to_exclude)\n",
    "print('Here are the columns we considered adding to the model:', list(columns_to_use), '\\n')\n",
    "\n",
    "target = ['MLWinner']\n",
    "\n",
    "make_dummies = ['League', \n",
    "                'A7_HC1', 'A7_HC10', 'A7_HC11', 'A7_HC12', 'A7_HC13', 'A7_HC14', 'A7_HC15', 'A7_HC16', 'A7_HC17', 'A7_HC18', 'A7_HC19', 'A7_HC2', 'A7_HC20', 'A7_HC21', 'A7_HC22', 'A7_HC23', 'A7_HC24', 'A7_HC25', 'A7_HC26', 'A7_HC27', 'A7_HC28', 'A7_HC29', 'A7_HC3', 'A7_HC30', 'A7_HC4', 'A7_HC5', 'A7_HC6', 'A7_HC7', 'A7_HC8', 'A7_HC9',\n",
    "                'A0_HC1', 'A0_HC10', 'A0_HC11', 'A0_HC12', 'A0_HC13', 'A0_HC14', 'A0_HC15', 'A0_HC16', 'A0_HC17', 'A0_HC18', 'A0_HC19', 'A0_HC2', 'A0_HC20', 'A0_HC21', 'A0_HC22', 'A0_HC23', 'A0_HC24', 'A0_HC25', 'A0_HC26', 'A0_HC27', 'A0_HC28', 'A0_HC29', 'A0_HC3', 'A0_HC30', 'A0_HC4', 'A0_HC5', 'A0_HC6', 'A0_HC7', 'A0_HC8', 'A0_HC9'\n",
    "               ]\n",
    "\n",
    "binarized_pivoted_ml_bets = pd.get_dummies(pivoted_ml_bets, columns=make_dummies)\n",
    "\n",
    "features = binarized_pivoted_ml_bets.columns.difference(columns_to_exclude)\n",
    "print('Here are the features the model will use:\\n', list(features), '\\n')\n",
    "\n",
    "# Split into train and test data.\n",
    "train_data = binarized_pivoted_ml_bets[(binarized_pivoted_ml_bets.GameTime < '2017-07-01')][features]\n",
    "train_labels = pivoted_ml_bets[(pivoted_ml_bets.GameTime < '2017-07-01')][target]\n",
    "\n",
    "test_data = binarized_pivoted_ml_bets[(binarized_pivoted_ml_bets.GameTime >= '2017-07-01')][features]\n",
    "test_labels = pivoted_ml_bets[(pivoted_ml_bets.GameTime >= '2017-07-01')][target]\n",
    "\n",
    "print('Train data:', train_data.shape)\n",
    "print('Test data:', test_data.shape)"
   ]
  },
  {
   "cell_type": "code",
   "execution_count": 87,
   "metadata": {},
   "outputs": [
    {
     "name": "stdout",
     "output_type": "stream",
     "text": [
      "train:  0.546378851869\n",
      "test:  0.508960573477\n",
      "\n",
      "Confusion matrix:\n",
      "[[660 628]\n",
      " [742 760]]\n",
      "\n",
      "Classification report for classifier GaussianNB(priors=None):\n",
      "             precision    recall  f1-score   support\n",
      "\n",
      "       Away       0.47      0.51      0.49      1288\n",
      "       Home       0.55      0.51      0.53      1502\n",
      "\n",
      "avg / total       0.51      0.51      0.51      2790\n",
      "\n",
      "\n"
     ]
    }
   ],
   "source": [
    "clf=GaussianNB()\n",
    "clf.fit(train_data,train_labels.values.ravel())\n",
    "\n",
    "print('train: ', accuracy_score(clf.predict(train_data),train_labels))\n",
    "print('test: ', accuracy_score(clf.predict(test_data),test_labels))\n",
    "\n",
    "test_predicted_labels = clf.predict(test_data)\n",
    "test_predicted_probs = clf.predict_proba(test_data)\n",
    "print(\"\\nConfusion matrix:\\n%s\" % confusion_matrix(test_labels, test_predicted_labels))\n",
    "print(\"\\nClassification report for classifier %s:\\n%s\\n\"\n",
    "% (clf, classification_report(test_labels, test_predicted_labels))) "
   ]
  },
  {
   "cell_type": "markdown",
   "metadata": {},
   "source": [
    "## Logistic Regression <a name='lr' />\n",
    "\n",
    "<a href='#top'>[Back to Contents]</a>"
   ]
  },
  {
   "cell_type": "code",
   "execution_count": 26,
   "metadata": {},
   "outputs": [],
   "source": [
    "# code"
   ]
  },
  {
   "cell_type": "code",
   "execution_count": 27,
   "metadata": {},
   "outputs": [],
   "source": [
    "# summary of findings"
   ]
  },
  {
   "cell_type": "markdown",
   "metadata": {},
   "source": [
    "## Random Forest <a name='rf' />\n",
    "\n",
    "<a href='#top'>[Back to Contents]</a>"
   ]
  },
  {
   "cell_type": "code",
   "execution_count": 17,
   "metadata": {},
   "outputs": [
    {
     "name": "stdout",
     "output_type": "stream",
     "text": [
      "Here are columns we can use: Index(['League', 'bet_risk', 'win_past_30_all_sport',\n",
      "       'win_past_30_all_sport_percent', 'win_past_30_specific_risk',\n",
      "       'win_past_30_specific_risk_percent', 'win_past_30_specific_sport',\n",
      "       'win_past_30_specific_sport_percent', 'win_steak_all_sport',\n",
      "       'win_steak_specific_sport'],\n",
      "      dtype='object')\n",
      "Train data: (32383, 660)\n",
      "Test data: (8083, 660)\n"
     ]
    },
    {
     "data": {
      "image/png": "[encoded data removed]",
      "text/plain": [
       "<matplotlib.figure.Figure at 0x7f9a38f2f048>"
      ]
     },
     "metadata": {},
     "output_type": "display_data"
    }
   ],
   "source": [
    "from sklearn.ensemble import RandomForestClassifier\n",
    "\n",
    "non_clf_ml_bets = df[(df['Bet']=='MONEY LINE') & (df['League']!='CFL') & (df['MLWinner'] !='')]\n",
    "\n",
    "columns_to_exclude = ['GameKey', 'GameTime', 'Bet', 'On', \n",
    "                      'Handicapper', 'Away', 'Home',\n",
    "                      'Juice', 'Type', 'Result', 'MLWinner']\n",
    "\n",
    "columns_to_use = non_clf_ml_bets.columns.difference(columns_to_exclude)\n",
    "print('Here are columns we can use:', columns_to_use)\n",
    "\n",
    "target = ['MLWinner']\n",
    "\n",
    "make_dummies = ['League', 'bet_risk', 'MLBet', 'Away', 'Home']\n",
    "\n",
    "binarized_non_clf_ml_bets = pd.get_dummies(non_clf_ml_bets, columns=make_dummies)\n",
    "\n",
    "features = binarized_non_clf_ml_bets.columns.difference(columns_to_exclude)\n",
    "#print('Here are the features the model will use:\\n', list(features), '\\n')\n",
    "\n",
    "# Split into train and test data.\n",
    "train_data = binarized_non_clf_ml_bets[(binarized_non_clf_ml_bets.GameTime < '2017-07-01')][features]\n",
    "train_labels = binarized_non_clf_ml_bets[(binarized_non_clf_ml_bets.GameTime < '2017-07-01')][target]\n",
    "\n",
    "test_data = binarized_non_clf_ml_bets[(binarized_non_clf_ml_bets.GameTime >= '2017-07-01')][features]\n",
    "test_labels = binarized_non_clf_ml_bets[(binarized_non_clf_ml_bets.GameTime >= '2017-07-01')][target]\n",
    "\n",
    "print('Train data:', train_data.shape)\n",
    "print('Test data:', test_data.shape)\n",
    "\n",
    "# let's try to find the optimal depth\n",
    "max_depths = np.linspace(1, 32, 32, endpoint=True)\n",
    "train_results = []\n",
    "test_results = []\n",
    "for max_depth in max_depths:\n",
    "    rf = RandomForestClassifier(max_depth=max_depth, n_jobs=-1)\n",
    "    rf.fit(train_data, train_labels.values.ravel())\n",
    "    train_pred = rf.predict(train_data)\n",
    "    train_acc = accuracy_score(rf.predict(train_data),train_labels)\n",
    "    train_results.append(train_acc)\n",
    "    y_pred = rf.predict(test_data)\n",
    "    test_acc = accuracy_score(rf.predict(test_data),test_labels)\n",
    "    test_results.append(test_acc)\n",
    "from matplotlib.legend_handler import HandlerLine2D\n",
    "line1, = plt.plot(max_depths, train_results, 'b', label=\"Train Acc\")\n",
    "line2, = plt.plot(max_depths, test_results, 'r', label=\"Test Acc\")\n",
    "plt.legend(handler_map={line1: HandlerLine2D(numpoints=2)})\n",
    "plt.ylabel('Accuracy')\n",
    "plt.xlabel('Tree depth')\n",
    "plt.show()"
   ]
  },
  {
   "cell_type": "code",
   "execution_count": 18,
   "metadata": {},
   "outputs": [
    {
     "name": "stdout",
     "output_type": "stream",
     "text": [
      "train:  0.610845196554\n",
      "test:  0.595694667821\n",
      "\n",
      "Confusion matrix:\n",
      "[[1282 2542]\n",
      " [ 726 3533]]\n",
      "\n",
      "Classification report for classifier RandomForestClassifier(bootstrap=True, class_weight=None, criterion='gini',\n",
      "            max_depth=4, max_features='auto', max_leaf_nodes=None,\n",
      "            min_impurity_decrease=0.0, min_impurity_split=None,\n",
      "            min_samples_leaf=1, min_samples_split=2,\n",
      "            min_weight_fraction_leaf=0.0, n_estimators=30, n_jobs=1,\n",
      "            oob_score=False, random_state=42, verbose=0, warm_start=False):\n",
      "             precision    recall  f1-score   support\n",
      "\n",
      "       Away       0.64      0.34      0.44      3824\n",
      "       Home       0.58      0.83      0.68      4259\n",
      "\n",
      "avg / total       0.61      0.60      0.57      8083\n",
      "\n",
      "\n"
     ]
    }
   ],
   "source": [
    "# Instantiate model with 30 decision trees\n",
    "clf = RandomForestClassifier(n_estimators = 30, random_state = 42, max_depth = 4)\n",
    "\n",
    "# Train the model on training data\n",
    "clf.fit(train_data, train_labels.values.ravel())\n",
    "\n",
    "print('train: ', accuracy_score(clf.predict(train_data),train_labels))\n",
    "print('test: ', accuracy_score(clf.predict(test_data),test_labels))\n",
    "\n",
    "test_predicted_labels = clf.predict(test_data)\n",
    "test_predicted_probs = clf.predict_proba(test_data)\n",
    "print(\"\\nConfusion matrix:\\n%s\" % confusion_matrix(test_labels, test_predicted_labels))\n",
    "print(\"\\nClassification report for classifier %s:\\n%s\\n\"\n",
    "% (clf, classification_report(test_labels, test_predicted_labels))) "
   ]
  },
  {
   "cell_type": "code",
   "execution_count": null,
   "metadata": {},
   "outputs": [],
   "source": [
    "# summary of findings"
   ]
  },
  {
   "cell_type": "markdown",
   "metadata": {},
   "source": [
    "## Gradient Boosting Machine <a name='gbm' />\n",
    "\n",
    "<a href='#top'>[Back to Contents]</a>"
   ]
  },
  {
   "cell_type": "code",
   "execution_count": 134,
   "metadata": {},
   "outputs": [
    {
     "name": "stdout",
     "output_type": "stream",
     "text": [
      "train:  0.577062038724\n",
      "test:  0.55363107757\n",
      "\n",
      "Confusion matrix:\n",
      "[[1629 2151]\n",
      " [1457 2846]]\n",
      "\n",
      "Classification report for classifier GradientBoostingClassifier(criterion='friedman_mse', init=None,\n",
      "              learning_rate=0.1, loss='deviance', max_depth=3,\n",
      "              max_features=None, max_leaf_nodes=None,\n",
      "              min_impurity_decrease=0.0, min_impurity_split=None,\n",
      "              min_samples_leaf=1, min_samples_split=2,\n",
      "              min_weight_fraction_leaf=0.0, n_estimators=100,\n",
      "              presort='auto', random_state=None, subsample=1.0, verbose=0,\n",
      "              warm_start=False):\n",
      "             precision    recall  f1-score   support\n",
      "\n",
      "       Away       0.53      0.43      0.47      3780\n",
      "       Home       0.57      0.66      0.61      4303\n",
      "\n",
      "avg / total       0.55      0.55      0.55      8083\n",
      "\n",
      "\n"
     ]
    }
   ],
   "source": [
    "from sklearn.ensemble import GradientBoostingClassifier\n",
    "clf = GradientBoostingClassifier()\n",
    "clf.fit(train_data, train_labels.values.ravel())\n",
    "\n",
    "print('train: ', accuracy_score(clf.predict(train_data),train_labels))\n",
    "print('test: ', accuracy_score(clf.predict(test_data),test_labels))\n",
    "\n",
    "test_predicted_labels = clf.predict(test_data)\n",
    "test_predicted_probs = clf.predict_proba(test_data)\n",
    "print(\"\\nConfusion matrix:\\n%s\" % confusion_matrix(test_labels, test_predicted_labels))\n",
    "print(\"\\nClassification report for classifier %s:\\n%s\\n\"\n",
    "% (clf, classification_report(test_labels, test_predicted_labels))) "
   ]
  },
  {
   "cell_type": "code",
   "execution_count": 21,
   "metadata": {},
   "outputs": [],
   "source": [
    "# summary of findings"
   ]
  },
  {
   "cell_type": "markdown",
   "metadata": {},
   "source": [
    "## Support Vector Machines <a name='svm' />\n",
    "\n",
    "<a href='#top'>[Back to Contents]</a>"
   ]
  },
  {
   "cell_type": "code",
   "execution_count": null,
   "metadata": {},
   "outputs": [],
   "source": [
    "# code"
   ]
  },
  {
   "cell_type": "code",
   "execution_count": null,
   "metadata": {},
   "outputs": [],
   "source": [
    "# summary of findings"
   ]
  },
  {
   "cell_type": "markdown",
   "metadata": {},
   "source": [
    "## K-means Clustering <a name='kmeans' />\n",
    "\n",
    "<a href='#top'>[Back to Contents]</a>"
   ]
  },
  {
   "cell_type": "code",
   "execution_count": 22,
   "metadata": {},
   "outputs": [],
   "source": [
    "# code"
   ]
  },
  {
   "cell_type": "code",
   "execution_count": 23,
   "metadata": {},
   "outputs": [],
   "source": [
    "# add contents"
   ]
  },
  {
   "cell_type": "markdown",
   "metadata": {},
   "source": [
    "## create more bookmarks as needed ..."
   ]
  },
  {
   "cell_type": "code",
   "execution_count": 28,
   "metadata": {},
   "outputs": [],
   "source": [
    "# code"
   ]
  },
  {
   "cell_type": "code",
   "execution_count": 29,
   "metadata": {},
   "outputs": [],
   "source": [
    "# add contents"
   ]
  }
 ],
 "metadata": {
  "kernelspec": {
   "display_name": "Python 3",
   "language": "python",
   "name": "python3"
  },
  "language_info": {
   "codemirror_mode": {
    "name": "ipython",
    "version": 3
   },
   "file_extension": ".py",
   "mimetype": "text/x-python",
   "name": "python",
   "nbconvert_exporter": "python",
   "pygments_lexer": "ipython3",
   "version": "3.5.2"
  }
 },
 "nbformat": 4,
 "nbformat_minor": 2
}
